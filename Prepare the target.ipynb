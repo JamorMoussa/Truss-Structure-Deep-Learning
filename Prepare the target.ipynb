{
 "cells": [
  {
   "cell_type": "code",
   "execution_count": 13,
   "id": "f5222287-49f0-4d07-8d4c-e0c9b311fd8b",
   "metadata": {},
   "outputs": [],
   "source": [
    "import numpy as np\n",
    "import pandas as pd\n",
    "from sklearn.preprocessing import StandardScaler, MinMaxScaler\n",
    "\n",
    "import torch\n",
    "\n",
    "import pickle as pk"
   ]
  },
  {
   "cell_type": "code",
   "execution_count": 14,
   "id": "289e1066-bfd0-4640-b56b-ccae994a66ac",
   "metadata": {},
   "outputs": [],
   "source": [
    "data = pd.read_csv(\"./data/DataSetTrussStructure.csv\")"
   ]
  },
  {
   "cell_type": "code",
   "execution_count": 15,
   "id": "a39eb538-0247-47e9-84dc-247fd596e7f9",
   "metadata": {},
   "outputs": [
    {
     "data": {
      "text/html": [
       "<div>\n",
       "<style scoped>\n",
       "    .dataframe tbody tr th:only-of-type {\n",
       "        vertical-align: middle;\n",
       "    }\n",
       "\n",
       "    .dataframe tbody tr th {\n",
       "        vertical-align: top;\n",
       "    }\n",
       "\n",
       "    .dataframe thead th {\n",
       "        text-align: right;\n",
       "    }\n",
       "</style>\n",
       "<table border=\"1\" class=\"dataframe\">\n",
       "  <thead>\n",
       "    <tr style=\"text-align: right;\">\n",
       "      <th></th>\n",
       "      <th>CS1</th>\n",
       "      <th>CS2</th>\n",
       "      <th>CS3</th>\n",
       "      <th>CS4</th>\n",
       "      <th>CS5</th>\n",
       "      <th>CS6</th>\n",
       "      <th>Energie</th>\n",
       "      <th>Poids</th>\n",
       "      <th>N° image</th>\n",
       "    </tr>\n",
       "  </thead>\n",
       "  <tbody>\n",
       "    <tr>\n",
       "      <th>0</th>\n",
       "      <td>0.022575</td>\n",
       "      <td>0.022575</td>\n",
       "      <td>0.022575</td>\n",
       "      <td>0.022575</td>\n",
       "      <td>0.022575</td>\n",
       "      <td>0.022575</td>\n",
       "      <td>0.025088</td>\n",
       "      <td>3901.671856</td>\n",
       "      <td>1</td>\n",
       "    </tr>\n",
       "    <tr>\n",
       "      <th>1</th>\n",
       "      <td>0.022575</td>\n",
       "      <td>0.022575</td>\n",
       "      <td>0.022575</td>\n",
       "      <td>0.022575</td>\n",
       "      <td>0.022575</td>\n",
       "      <td>0.022575</td>\n",
       "      <td>0.043002</td>\n",
       "      <td>3159.119087</td>\n",
       "      <td>2</td>\n",
       "    </tr>\n",
       "    <tr>\n",
       "      <th>2</th>\n",
       "      <td>0.022575</td>\n",
       "      <td>0.022575</td>\n",
       "      <td>0.022575</td>\n",
       "      <td>0.022575</td>\n",
       "      <td>0.022575</td>\n",
       "      <td>0.022575</td>\n",
       "      <td>0.021369</td>\n",
       "      <td>3575.895111</td>\n",
       "      <td>3</td>\n",
       "    </tr>\n",
       "    <tr>\n",
       "      <th>3</th>\n",
       "      <td>0.022575</td>\n",
       "      <td>0.022575</td>\n",
       "      <td>0.022575</td>\n",
       "      <td>0.022575</td>\n",
       "      <td>0.022575</td>\n",
       "      <td>0.022575</td>\n",
       "      <td>0.044654</td>\n",
       "      <td>3276.268680</td>\n",
       "      <td>4</td>\n",
       "    </tr>\n",
       "    <tr>\n",
       "      <th>4</th>\n",
       "      <td>0.022575</td>\n",
       "      <td>0.022575</td>\n",
       "      <td>0.022575</td>\n",
       "      <td>0.022575</td>\n",
       "      <td>0.022575</td>\n",
       "      <td>0.022575</td>\n",
       "      <td>0.036768</td>\n",
       "      <td>3173.978488</td>\n",
       "      <td>5</td>\n",
       "    </tr>\n",
       "    <tr>\n",
       "      <th>...</th>\n",
       "      <td>...</td>\n",
       "      <td>...</td>\n",
       "      <td>...</td>\n",
       "      <td>...</td>\n",
       "      <td>...</td>\n",
       "      <td>...</td>\n",
       "      <td>...</td>\n",
       "      <td>...</td>\n",
       "      <td>...</td>\n",
       "    </tr>\n",
       "    <tr>\n",
       "      <th>1996</th>\n",
       "      <td>0.022575</td>\n",
       "      <td>0.022575</td>\n",
       "      <td>0.022575</td>\n",
       "      <td>0.022575</td>\n",
       "      <td>0.022575</td>\n",
       "      <td>0.022575</td>\n",
       "      <td>0.021233</td>\n",
       "      <td>3352.060281</td>\n",
       "      <td>1997</td>\n",
       "    </tr>\n",
       "    <tr>\n",
       "      <th>1997</th>\n",
       "      <td>0.022575</td>\n",
       "      <td>0.022575</td>\n",
       "      <td>0.022575</td>\n",
       "      <td>0.022575</td>\n",
       "      <td>0.022575</td>\n",
       "      <td>0.022575</td>\n",
       "      <td>0.023403</td>\n",
       "      <td>3338.811195</td>\n",
       "      <td>1998</td>\n",
       "    </tr>\n",
       "    <tr>\n",
       "      <th>1998</th>\n",
       "      <td>0.022575</td>\n",
       "      <td>0.022575</td>\n",
       "      <td>0.022575</td>\n",
       "      <td>0.022575</td>\n",
       "      <td>0.022575</td>\n",
       "      <td>0.022575</td>\n",
       "      <td>0.020354</td>\n",
       "      <td>3456.720204</td>\n",
       "      <td>1999</td>\n",
       "    </tr>\n",
       "    <tr>\n",
       "      <th>1999</th>\n",
       "      <td>0.022575</td>\n",
       "      <td>0.022575</td>\n",
       "      <td>0.022575</td>\n",
       "      <td>0.022575</td>\n",
       "      <td>0.022575</td>\n",
       "      <td>0.022575</td>\n",
       "      <td>0.044875</td>\n",
       "      <td>3182.877027</td>\n",
       "      <td>2000</td>\n",
       "    </tr>\n",
       "    <tr>\n",
       "      <th>2000</th>\n",
       "      <td>0.022575</td>\n",
       "      <td>0.022575</td>\n",
       "      <td>0.022575</td>\n",
       "      <td>0.022575</td>\n",
       "      <td>0.022575</td>\n",
       "      <td>0.022575</td>\n",
       "      <td>0.038393</td>\n",
       "      <td>3197.261485</td>\n",
       "      <td>2001</td>\n",
       "    </tr>\n",
       "  </tbody>\n",
       "</table>\n",
       "<p>2001 rows × 9 columns</p>\n",
       "</div>"
      ],
      "text/plain": [
       "           CS1       CS2       CS3       CS4       CS5       CS6   Energie  \\\n",
       "0     0.022575  0.022575  0.022575  0.022575  0.022575  0.022575  0.025088   \n",
       "1     0.022575  0.022575  0.022575  0.022575  0.022575  0.022575  0.043002   \n",
       "2     0.022575  0.022575  0.022575  0.022575  0.022575  0.022575  0.021369   \n",
       "3     0.022575  0.022575  0.022575  0.022575  0.022575  0.022575  0.044654   \n",
       "4     0.022575  0.022575  0.022575  0.022575  0.022575  0.022575  0.036768   \n",
       "...        ...       ...       ...       ...       ...       ...       ...   \n",
       "1996  0.022575  0.022575  0.022575  0.022575  0.022575  0.022575  0.021233   \n",
       "1997  0.022575  0.022575  0.022575  0.022575  0.022575  0.022575  0.023403   \n",
       "1998  0.022575  0.022575  0.022575  0.022575  0.022575  0.022575  0.020354   \n",
       "1999  0.022575  0.022575  0.022575  0.022575  0.022575  0.022575  0.044875   \n",
       "2000  0.022575  0.022575  0.022575  0.022575  0.022575  0.022575  0.038393   \n",
       "\n",
       "            Poids  N° image  \n",
       "0     3901.671856         1  \n",
       "1     3159.119087         2  \n",
       "2     3575.895111         3  \n",
       "3     3276.268680         4  \n",
       "4     3173.978488         5  \n",
       "...           ...       ...  \n",
       "1996  3352.060281      1997  \n",
       "1997  3338.811195      1998  \n",
       "1998  3456.720204      1999  \n",
       "1999  3182.877027      2000  \n",
       "2000  3197.261485      2001  \n",
       "\n",
       "[2001 rows x 9 columns]"
      ]
     },
     "execution_count": 15,
     "metadata": {},
     "output_type": "execute_result"
    }
   ],
   "source": [
    "data"
   ]
  },
  {
   "cell_type": "code",
   "execution_count": 16,
   "id": "78ac462d-73df-4368-a27e-2b552e4c4181",
   "metadata": {},
   "outputs": [],
   "source": [
    "target_df = data.loc[:, [\"Energie\", \"Poids\"]]"
   ]
  },
  {
   "cell_type": "code",
   "execution_count": 17,
   "id": "9b05eeda-3386-4637-a46d-bd0c35ce5f40",
   "metadata": {},
   "outputs": [
    {
     "data": {
      "text/html": [
       "<div>\n",
       "<style scoped>\n",
       "    .dataframe tbody tr th:only-of-type {\n",
       "        vertical-align: middle;\n",
       "    }\n",
       "\n",
       "    .dataframe tbody tr th {\n",
       "        vertical-align: top;\n",
       "    }\n",
       "\n",
       "    .dataframe thead th {\n",
       "        text-align: right;\n",
       "    }\n",
       "</style>\n",
       "<table border=\"1\" class=\"dataframe\">\n",
       "  <thead>\n",
       "    <tr style=\"text-align: right;\">\n",
       "      <th></th>\n",
       "      <th>Energie</th>\n",
       "      <th>Poids</th>\n",
       "    </tr>\n",
       "  </thead>\n",
       "  <tbody>\n",
       "    <tr>\n",
       "      <th>0</th>\n",
       "      <td>0.025088</td>\n",
       "      <td>3901.671856</td>\n",
       "    </tr>\n",
       "    <tr>\n",
       "      <th>1</th>\n",
       "      <td>0.043002</td>\n",
       "      <td>3159.119087</td>\n",
       "    </tr>\n",
       "    <tr>\n",
       "      <th>2</th>\n",
       "      <td>0.021369</td>\n",
       "      <td>3575.895111</td>\n",
       "    </tr>\n",
       "    <tr>\n",
       "      <th>3</th>\n",
       "      <td>0.044654</td>\n",
       "      <td>3276.268680</td>\n",
       "    </tr>\n",
       "    <tr>\n",
       "      <th>4</th>\n",
       "      <td>0.036768</td>\n",
       "      <td>3173.978488</td>\n",
       "    </tr>\n",
       "    <tr>\n",
       "      <th>...</th>\n",
       "      <td>...</td>\n",
       "      <td>...</td>\n",
       "    </tr>\n",
       "    <tr>\n",
       "      <th>1996</th>\n",
       "      <td>0.021233</td>\n",
       "      <td>3352.060281</td>\n",
       "    </tr>\n",
       "    <tr>\n",
       "      <th>1997</th>\n",
       "      <td>0.023403</td>\n",
       "      <td>3338.811195</td>\n",
       "    </tr>\n",
       "    <tr>\n",
       "      <th>1998</th>\n",
       "      <td>0.020354</td>\n",
       "      <td>3456.720204</td>\n",
       "    </tr>\n",
       "    <tr>\n",
       "      <th>1999</th>\n",
       "      <td>0.044875</td>\n",
       "      <td>3182.877027</td>\n",
       "    </tr>\n",
       "    <tr>\n",
       "      <th>2000</th>\n",
       "      <td>0.038393</td>\n",
       "      <td>3197.261485</td>\n",
       "    </tr>\n",
       "  </tbody>\n",
       "</table>\n",
       "<p>2001 rows × 2 columns</p>\n",
       "</div>"
      ],
      "text/plain": [
       "       Energie        Poids\n",
       "0     0.025088  3901.671856\n",
       "1     0.043002  3159.119087\n",
       "2     0.021369  3575.895111\n",
       "3     0.044654  3276.268680\n",
       "4     0.036768  3173.978488\n",
       "...        ...          ...\n",
       "1996  0.021233  3352.060281\n",
       "1997  0.023403  3338.811195\n",
       "1998  0.020354  3456.720204\n",
       "1999  0.044875  3182.877027\n",
       "2000  0.038393  3197.261485\n",
       "\n",
       "[2001 rows x 2 columns]"
      ]
     },
     "execution_count": 17,
     "metadata": {},
     "output_type": "execute_result"
    }
   ],
   "source": [
    "target_df"
   ]
  },
  {
   "cell_type": "code",
   "execution_count": 20,
   "id": "26db2f2b-568b-481f-81a9-f0151df6e84c",
   "metadata": {},
   "outputs": [],
   "source": [
    "scaler = MinMaxScaler()"
   ]
  },
  {
   "cell_type": "code",
   "execution_count": 21,
   "id": "6b0fe7e3-641b-48da-87da-287dd8aedc5a",
   "metadata": {},
   "outputs": [],
   "source": [
    "scaled_target = scaler.fit_transform(target_df)"
   ]
  },
  {
   "cell_type": "code",
   "execution_count": 32,
   "id": "9a95b2f0-87d3-44c6-89e1-9a7f78df20e9",
   "metadata": {},
   "outputs": [
    {
     "data": {
      "text/plain": [
       "array([[0.20296963, 1.        ],\n",
       "       [0.92072539, 0.12321718],\n",
       "       [0.0539329 , 0.61533312],\n",
       "       ...,\n",
       "       [0.0132932 , 0.47461516],\n",
       "       [0.9957525 , 0.1512698 ],\n",
       "       [0.73604534, 0.16825451]])"
      ]
     },
     "execution_count": 32,
     "metadata": {},
     "output_type": "execute_result"
    }
   ],
   "source": [
    "scaled_target"
   ]
  },
  {
   "cell_type": "code",
   "execution_count": 27,
   "id": "1878415d-8ffb-47d2-bc3c-c426b8427c5e",
   "metadata": {},
   "outputs": [
    {
     "data": {
      "text/plain": [
       "[[0.02750992197624554, 3252.9417417847512]]"
      ]
     },
     "execution_count": 27,
     "metadata": {},
     "output_type": "execute_result"
    }
   ],
   "source": [
    "scaler.inverse_transform(np.array([[0.3, 0.234]])).tolist()"
   ]
  },
  {
   "cell_type": "code",
   "execution_count": 30,
   "id": "e16dd5ac-1df3-4b2b-9fe4-2d7b7658f350",
   "metadata": {},
   "outputs": [
    {
     "data": {
      "text/html": [
       "<style>#sk-container-id-1 {color: black;}#sk-container-id-1 pre{padding: 0;}#sk-container-id-1 div.sk-toggleable {background-color: white;}#sk-container-id-1 label.sk-toggleable__label {cursor: pointer;display: block;width: 100%;margin-bottom: 0;padding: 0.3em;box-sizing: border-box;text-align: center;}#sk-container-id-1 label.sk-toggleable__label-arrow:before {content: \"▸\";float: left;margin-right: 0.25em;color: #696969;}#sk-container-id-1 label.sk-toggleable__label-arrow:hover:before {color: black;}#sk-container-id-1 div.sk-estimator:hover label.sk-toggleable__label-arrow:before {color: black;}#sk-container-id-1 div.sk-toggleable__content {max-height: 0;max-width: 0;overflow: hidden;text-align: left;background-color: #f0f8ff;}#sk-container-id-1 div.sk-toggleable__content pre {margin: 0.2em;color: black;border-radius: 0.25em;background-color: #f0f8ff;}#sk-container-id-1 input.sk-toggleable__control:checked~div.sk-toggleable__content {max-height: 200px;max-width: 100%;overflow: auto;}#sk-container-id-1 input.sk-toggleable__control:checked~label.sk-toggleable__label-arrow:before {content: \"▾\";}#sk-container-id-1 div.sk-estimator input.sk-toggleable__control:checked~label.sk-toggleable__label {background-color: #d4ebff;}#sk-container-id-1 div.sk-label input.sk-toggleable__control:checked~label.sk-toggleable__label {background-color: #d4ebff;}#sk-container-id-1 input.sk-hidden--visually {border: 0;clip: rect(1px 1px 1px 1px);clip: rect(1px, 1px, 1px, 1px);height: 1px;margin: -1px;overflow: hidden;padding: 0;position: absolute;width: 1px;}#sk-container-id-1 div.sk-estimator {font-family: monospace;background-color: #f0f8ff;border: 1px dotted black;border-radius: 0.25em;box-sizing: border-box;margin-bottom: 0.5em;}#sk-container-id-1 div.sk-estimator:hover {background-color: #d4ebff;}#sk-container-id-1 div.sk-parallel-item::after {content: \"\";width: 100%;border-bottom: 1px solid gray;flex-grow: 1;}#sk-container-id-1 div.sk-label:hover label.sk-toggleable__label {background-color: #d4ebff;}#sk-container-id-1 div.sk-serial::before {content: \"\";position: absolute;border-left: 1px solid gray;box-sizing: border-box;top: 0;bottom: 0;left: 50%;z-index: 0;}#sk-container-id-1 div.sk-serial {display: flex;flex-direction: column;align-items: center;background-color: white;padding-right: 0.2em;padding-left: 0.2em;position: relative;}#sk-container-id-1 div.sk-item {position: relative;z-index: 1;}#sk-container-id-1 div.sk-parallel {display: flex;align-items: stretch;justify-content: center;background-color: white;position: relative;}#sk-container-id-1 div.sk-item::before, #sk-container-id-1 div.sk-parallel-item::before {content: \"\";position: absolute;border-left: 1px solid gray;box-sizing: border-box;top: 0;bottom: 0;left: 50%;z-index: -1;}#sk-container-id-1 div.sk-parallel-item {display: flex;flex-direction: column;z-index: 1;position: relative;background-color: white;}#sk-container-id-1 div.sk-parallel-item:first-child::after {align-self: flex-end;width: 50%;}#sk-container-id-1 div.sk-parallel-item:last-child::after {align-self: flex-start;width: 50%;}#sk-container-id-1 div.sk-parallel-item:only-child::after {width: 0;}#sk-container-id-1 div.sk-dashed-wrapped {border: 1px dashed gray;margin: 0 0.4em 0.5em 0.4em;box-sizing: border-box;padding-bottom: 0.4em;background-color: white;}#sk-container-id-1 div.sk-label label {font-family: monospace;font-weight: bold;display: inline-block;line-height: 1.2em;}#sk-container-id-1 div.sk-label-container {text-align: center;}#sk-container-id-1 div.sk-container {/* jupyter's `normalize.less` sets `[hidden] { display: none; }` but bootstrap.min.css set `[hidden] { display: none !important; }` so we also need the `!important` here to be able to override the default hidden behavior on the sphinx rendered scikit-learn.org. See: https://github.com/scikit-learn/scikit-learn/issues/21755 */display: inline-block !important;position: relative;}#sk-container-id-1 div.sk-text-repr-fallback {display: none;}</style><div id=\"sk-container-id-1\" class=\"sk-top-container\"><div class=\"sk-text-repr-fallback\"><pre>MinMaxScaler()</pre><b>In a Jupyter environment, please rerun this cell to show the HTML representation or trust the notebook. <br />On GitHub, the HTML representation is unable to render, please try loading this page with nbviewer.org.</b></div><div class=\"sk-container\" hidden><div class=\"sk-item\"><div class=\"sk-estimator sk-toggleable\"><input class=\"sk-toggleable__control sk-hidden--visually\" id=\"sk-estimator-id-1\" type=\"checkbox\" checked><label for=\"sk-estimator-id-1\" class=\"sk-toggleable__label sk-toggleable__label-arrow\">MinMaxScaler</label><div class=\"sk-toggleable__content\"><pre>MinMaxScaler()</pre></div></div></div></div></div>"
      ],
      "text/plain": [
       "MinMaxScaler()"
      ]
     },
     "execution_count": 30,
     "metadata": {},
     "output_type": "execute_result"
    }
   ],
   "source": [
    "scaler"
   ]
  },
  {
   "cell_type": "code",
   "execution_count": 37,
   "id": "9d8980c8-276e-4df6-a80e-b0629d4d6138",
   "metadata": {},
   "outputs": [],
   "source": [
    "pk.dump(scaler, open(\"min_max_scaler.pkl\", \"wb\"))"
   ]
  },
  {
   "cell_type": "code",
   "execution_count": 38,
   "id": "ebed343a-8d92-4ce4-b140-28ff4fa8b172",
   "metadata": {},
   "outputs": [
    {
     "data": {
      "text/plain": [
       "array([[0.20296963, 1.        ],\n",
       "       [0.92072539, 0.12321718],\n",
       "       [0.0539329 , 0.61533312],\n",
       "       ...,\n",
       "       [0.0132932 , 0.47461516],\n",
       "       [0.9957525 , 0.1512698 ],\n",
       "       [0.73604534, 0.16825451]])"
      ]
     },
     "execution_count": 38,
     "metadata": {},
     "output_type": "execute_result"
    }
   ],
   "source": [
    "scaled_target"
   ]
  },
  {
   "cell_type": "code",
   "execution_count": 39,
   "id": "a78da053-b327-4228-9600-01437fa191dd",
   "metadata": {},
   "outputs": [],
   "source": [
    "target = torch.from_numpy(scaled_target)"
   ]
  },
  {
   "cell_type": "code",
   "execution_count": 40,
   "id": "e55c7c94-9410-4e2b-826b-6492c9e1b10c",
   "metadata": {},
   "outputs": [
    {
     "data": {
      "text/plain": [
       "tensor([[0.2030, 1.0000],\n",
       "        [0.9207, 0.1232],\n",
       "        [0.0539, 0.6153],\n",
       "        ...,\n",
       "        [0.0133, 0.4746],\n",
       "        [0.9958, 0.1513],\n",
       "        [0.7360, 0.1683]], dtype=torch.float64)"
      ]
     },
     "execution_count": 40,
     "metadata": {},
     "output_type": "execute_result"
    }
   ],
   "source": [
    "target"
   ]
  },
  {
   "cell_type": "code",
   "execution_count": 42,
   "id": "9569ec6a-4d12-4076-9d11-6d2d6a4b1a5f",
   "metadata": {},
   "outputs": [],
   "source": [
    "torch.save(target, \"./target_energy_weight.pt\")"
   ]
  },
  {
   "cell_type": "code",
   "execution_count": 47,
   "id": "2d017526-e1e9-4882-a25e-a73fdb7f6956",
   "metadata": {},
   "outputs": [],
   "source": [
    "data = pd.read_csv(\"./data/DataSetTrussStructureDeplacements.csv\").iloc[:, :-1]"
   ]
  },
  {
   "cell_type": "code",
   "execution_count": 48,
   "id": "261978c6-d241-4ebe-92f6-9c7fc4e85322",
   "metadata": {},
   "outputs": [
    {
     "data": {
      "text/html": [
       "<div>\n",
       "<style scoped>\n",
       "    .dataframe tbody tr th:only-of-type {\n",
       "        vertical-align: middle;\n",
       "    }\n",
       "\n",
       "    .dataframe tbody tr th {\n",
       "        vertical-align: top;\n",
       "    }\n",
       "\n",
       "    .dataframe thead th {\n",
       "        text-align: right;\n",
       "    }\n",
       "</style>\n",
       "<table border=\"1\" class=\"dataframe\">\n",
       "  <thead>\n",
       "    <tr style=\"text-align: right;\">\n",
       "      <th></th>\n",
       "      <th>DX1</th>\n",
       "      <th>DY1</th>\n",
       "      <th>DX2</th>\n",
       "      <th>DY2</th>\n",
       "      <th>DX3</th>\n",
       "      <th>DY3</th>\n",
       "      <th>DX4</th>\n",
       "      <th>DY4</th>\n",
       "    </tr>\n",
       "  </thead>\n",
       "  <tbody>\n",
       "    <tr>\n",
       "      <th>0</th>\n",
       "      <td>0</td>\n",
       "      <td>0</td>\n",
       "      <td>-0.000007</td>\n",
       "      <td>-0.000025</td>\n",
       "      <td>5.195944e-06</td>\n",
       "      <td>-1.989229e-05</td>\n",
       "      <td>0</td>\n",
       "      <td>0</td>\n",
       "    </tr>\n",
       "    <tr>\n",
       "      <th>1</th>\n",
       "      <td>0</td>\n",
       "      <td>0</td>\n",
       "      <td>-0.000009</td>\n",
       "      <td>-0.000043</td>\n",
       "      <td>-1.855864e-06</td>\n",
       "      <td>-3.920309e-08</td>\n",
       "      <td>0</td>\n",
       "      <td>0</td>\n",
       "    </tr>\n",
       "    <tr>\n",
       "      <th>2</th>\n",
       "      <td>0</td>\n",
       "      <td>0</td>\n",
       "      <td>-0.000006</td>\n",
       "      <td>-0.000021</td>\n",
       "      <td>1.822227e-06</td>\n",
       "      <td>-1.575411e-05</td>\n",
       "      <td>0</td>\n",
       "      <td>0</td>\n",
       "    </tr>\n",
       "    <tr>\n",
       "      <th>3</th>\n",
       "      <td>0</td>\n",
       "      <td>0</td>\n",
       "      <td>-0.000012</td>\n",
       "      <td>-0.000045</td>\n",
       "      <td>2.828932e-05</td>\n",
       "      <td>1.415966e-06</td>\n",
       "      <td>0</td>\n",
       "      <td>0</td>\n",
       "    </tr>\n",
       "    <tr>\n",
       "      <th>4</th>\n",
       "      <td>0</td>\n",
       "      <td>0</td>\n",
       "      <td>-0.000014</td>\n",
       "      <td>-0.000037</td>\n",
       "      <td>3.128445e-06</td>\n",
       "      <td>-5.127493e-06</td>\n",
       "      <td>0</td>\n",
       "      <td>0</td>\n",
       "    </tr>\n",
       "    <tr>\n",
       "      <th>...</th>\n",
       "      <td>...</td>\n",
       "      <td>...</td>\n",
       "      <td>...</td>\n",
       "      <td>...</td>\n",
       "      <td>...</td>\n",
       "      <td>...</td>\n",
       "      <td>...</td>\n",
       "      <td>...</td>\n",
       "    </tr>\n",
       "    <tr>\n",
       "      <th>1996</th>\n",
       "      <td>0</td>\n",
       "      <td>0</td>\n",
       "      <td>-0.000008</td>\n",
       "      <td>-0.000021</td>\n",
       "      <td>2.114104e-06</td>\n",
       "      <td>-8.535411e-06</td>\n",
       "      <td>0</td>\n",
       "      <td>0</td>\n",
       "    </tr>\n",
       "    <tr>\n",
       "      <th>1997</th>\n",
       "      <td>0</td>\n",
       "      <td>0</td>\n",
       "      <td>-0.000009</td>\n",
       "      <td>-0.000023</td>\n",
       "      <td>1.400329e-06</td>\n",
       "      <td>-6.005413e-06</td>\n",
       "      <td>0</td>\n",
       "      <td>0</td>\n",
       "    </tr>\n",
       "    <tr>\n",
       "      <th>1998</th>\n",
       "      <td>0</td>\n",
       "      <td>0</td>\n",
       "      <td>-0.000007</td>\n",
       "      <td>-0.000020</td>\n",
       "      <td>1.595819e-06</td>\n",
       "      <td>-1.374284e-05</td>\n",
       "      <td>0</td>\n",
       "      <td>0</td>\n",
       "    </tr>\n",
       "    <tr>\n",
       "      <th>1999</th>\n",
       "      <td>0</td>\n",
       "      <td>0</td>\n",
       "      <td>-0.000012</td>\n",
       "      <td>-0.000045</td>\n",
       "      <td>4.560391e-07</td>\n",
       "      <td>-2.466710e-07</td>\n",
       "      <td>0</td>\n",
       "      <td>0</td>\n",
       "    </tr>\n",
       "    <tr>\n",
       "      <th>2000</th>\n",
       "      <td>0</td>\n",
       "      <td>0</td>\n",
       "      <td>-0.000012</td>\n",
       "      <td>-0.000038</td>\n",
       "      <td>1.371463e-05</td>\n",
       "      <td>2.062576e-06</td>\n",
       "      <td>0</td>\n",
       "      <td>0</td>\n",
       "    </tr>\n",
       "  </tbody>\n",
       "</table>\n",
       "<p>2001 rows × 8 columns</p>\n",
       "</div>"
      ],
      "text/plain": [
       "      DX1  DY1       DX2       DY2           DX3           DY3  DX4  DY4\n",
       "0       0    0 -0.000007 -0.000025  5.195944e-06 -1.989229e-05    0    0\n",
       "1       0    0 -0.000009 -0.000043 -1.855864e-06 -3.920309e-08    0    0\n",
       "2       0    0 -0.000006 -0.000021  1.822227e-06 -1.575411e-05    0    0\n",
       "3       0    0 -0.000012 -0.000045  2.828932e-05  1.415966e-06    0    0\n",
       "4       0    0 -0.000014 -0.000037  3.128445e-06 -5.127493e-06    0    0\n",
       "...   ...  ...       ...       ...           ...           ...  ...  ...\n",
       "1996    0    0 -0.000008 -0.000021  2.114104e-06 -8.535411e-06    0    0\n",
       "1997    0    0 -0.000009 -0.000023  1.400329e-06 -6.005413e-06    0    0\n",
       "1998    0    0 -0.000007 -0.000020  1.595819e-06 -1.374284e-05    0    0\n",
       "1999    0    0 -0.000012 -0.000045  4.560391e-07 -2.466710e-07    0    0\n",
       "2000    0    0 -0.000012 -0.000038  1.371463e-05  2.062576e-06    0    0\n",
       "\n",
       "[2001 rows x 8 columns]"
      ]
     },
     "execution_count": 48,
     "metadata": {},
     "output_type": "execute_result"
    }
   ],
   "source": [
    "data"
   ]
  },
  {
   "cell_type": "code",
   "execution_count": 49,
   "id": "0807922c-ad28-47e3-8340-60ddac0121b5",
   "metadata": {},
   "outputs": [],
   "source": [
    "scaler_dep = StandardScaler()"
   ]
  },
  {
   "cell_type": "code",
   "execution_count": 50,
   "id": "f9503f81-ff5b-4de2-8c33-20e5ba4bb02b",
   "metadata": {},
   "outputs": [],
   "source": [
    "data_dep = scaler_dep.fit_transform(data)"
   ]
  },
  {
   "cell_type": "code",
   "execution_count": 53,
   "id": "55e683da-3f16-4848-a20b-21a9b6fb65fa",
   "metadata": {},
   "outputs": [],
   "source": [
    "data_tensor = torch.from_numpy(data_dep)"
   ]
  },
  {
   "cell_type": "code",
   "execution_count": 77,
   "id": "53c8f3a1-5c79-4b2f-a1e0-4b67b7283143",
   "metadata": {},
   "outputs": [],
   "source": [
    "list_empty = []"
   ]
  },
  {
   "cell_type": "code",
   "execution_count": 78,
   "id": "6e142c0c-3b51-45b1-a483-1754e4b02d3d",
   "metadata": {},
   "outputs": [],
   "source": [
    "for t in data_tensor:\n",
    "    list_empty.append([t[:2].tolist(), t[2:4].tolist(), t[4:6].tolist(), t[6:].tolist()])"
   ]
  },
  {
   "cell_type": "code",
   "execution_count": 79,
   "id": "0c77938f-bc06-4160-acfc-5a87b1bced60",
   "metadata": {},
   "outputs": [],
   "source": [
    "data_to_save = torch.tensor(list_empty)"
   ]
  },
  {
   "cell_type": "code",
   "execution_count": 81,
   "id": "39d4b068-911b-4e56-8a4c-df629065a58c",
   "metadata": {},
   "outputs": [
    {
     "data": {
      "text/plain": [
       "torch.Size([2001, 4, 2])"
      ]
     },
     "execution_count": 81,
     "metadata": {},
     "output_type": "execute_result"
    }
   ],
   "source": [
    "data_to_save.shape"
   ]
  },
  {
   "cell_type": "code",
   "execution_count": null,
   "id": "7bf41fed-9959-4344-a60e-3af5f34382dc",
   "metadata": {},
   "outputs": [],
   "source": []
  }
 ],
 "metadata": {
  "kernelspec": {
   "display_name": "Python 3 (ipykernel)",
   "language": "python",
   "name": "python3"
  },
  "language_info": {
   "codemirror_mode": {
    "name": "ipython",
    "version": 3
   },
   "file_extension": ".py",
   "mimetype": "text/x-python",
   "name": "python",
   "nbconvert_exporter": "python",
   "pygments_lexer": "ipython3",
   "version": "3.11.6"
  }
 },
 "nbformat": 4,
 "nbformat_minor": 5
}
