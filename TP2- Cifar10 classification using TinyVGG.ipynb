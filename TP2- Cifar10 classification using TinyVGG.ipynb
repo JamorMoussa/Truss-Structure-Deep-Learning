{
 "cells": [
  {
   "cell_type": "markdown",
   "id": "72fb79b6",
   "metadata": {},
   "source": [
    "## TP2- CIFAR10 classification using CNN"
   ]
  },
  {
   "cell_type": "markdown",
   "id": "3e099670",
   "metadata": {},
   "source": [
    "In this lab, we're going to perform classification task with **CIFAR10** dataset, using **CNN** and we're using the **TinyVGG** archtecture."
   ]
  },
  {
   "cell_type": "code",
   "execution_count": 20,
   "id": "9337c0ea",
   "metadata": {
    "execution": {
     "iopub.execute_input": "2024-04-23T20:48:49.181150Z",
     "iopub.status.busy": "2024-04-23T20:48:49.180354Z",
     "iopub.status.idle": "2024-04-23T20:48:49.188041Z",
     "shell.execute_reply": "2024-04-23T20:48:49.186509Z",
     "shell.execute_reply.started": "2024-04-23T20:48:49.181109Z"
    }
   },
   "outputs": [],
   "source": [
    "# importing libraries\n",
    "\n",
    "import torch, torch.nn as nn\n",
    "import torch.optim as optim\n",
    "from torch.utils.data import DataLoader\n",
    "\n",
    "import torchvision\n",
    "import torchvision.transforms as transforms\n",
    "\n",
    "import matplotlib.pyplot as plt\n",
    "import numpy as np\n",
    "\n",
    "from sklearn.metrics import classification_report, accuracy_score"
   ]
  },
  {
   "cell_type": "code",
   "execution_count": 2,
   "id": "f2b1b53b",
   "metadata": {
    "execution": {
     "iopub.execute_input": "2024-04-23T20:44:37.517055Z",
     "iopub.status.busy": "2024-04-23T20:44:37.516332Z",
     "iopub.status.idle": "2024-04-23T20:44:37.541501Z",
     "shell.execute_reply": "2024-04-23T20:44:37.540569Z",
     "shell.execute_reply.started": "2024-04-23T20:44:37.517018Z"
    }
   },
   "outputs": [],
   "source": [
    "# setup device\n",
    "\n",
    "device = torch.device(\"cuda\" if torch.cuda.is_available() else \"cpu\")"
   ]
  },
  {
   "cell_type": "markdown",
   "id": "eedbfbcd",
   "metadata": {},
   "source": [
    "## Load CIFAR10 dataset"
   ]
  },
  {
   "cell_type": "code",
   "execution_count": 3,
   "id": "131a2aca",
   "metadata": {
    "execution": {
     "iopub.execute_input": "2024-04-23T20:45:24.359985Z",
     "iopub.status.busy": "2024-04-23T20:45:24.359397Z",
     "iopub.status.idle": "2024-04-23T20:45:24.364376Z",
     "shell.execute_reply": "2024-04-23T20:45:24.363377Z",
     "shell.execute_reply.started": "2024-04-23T20:45:24.359955Z"
    }
   },
   "outputs": [],
   "source": [
    "transform = transforms.Compose([\n",
    "    transforms.ToTensor(),\n",
    "])"
   ]
  },
  {
   "cell_type": "code",
   "execution_count": 4,
   "id": "c64a3483",
   "metadata": {
    "execution": {
     "iopub.execute_input": "2024-04-23T20:45:26.901633Z",
     "iopub.status.busy": "2024-04-23T20:45:26.901296Z",
     "iopub.status.idle": "2024-04-23T20:45:35.417830Z",
     "shell.execute_reply": "2024-04-23T20:45:35.417060Z",
     "shell.execute_reply.started": "2024-04-23T20:45:26.901607Z"
    }
   },
   "outputs": [
    {
     "name": "stdout",
     "output_type": "stream",
     "text": [
      "Downloading https://www.cs.toronto.edu/~kriz/cifar-10-python.tar.gz to ./data/cifar-10-python.tar.gz\n"
     ]
    },
    {
     "name": "stderr",
     "output_type": "stream",
     "text": [
      "100%|██████████| 170498071/170498071 [00:04<00:00, 35114379.71it/s]\n"
     ]
    },
    {
     "name": "stdout",
     "output_type": "stream",
     "text": [
      "Extracting ./data/cifar-10-python.tar.gz to ./data\n",
      "Files already downloaded and verified\n"
     ]
    }
   ],
   "source": [
    "# Load CIFAR10 dataset\n",
    "\n",
    "train_set = torchvision.datasets.CIFAR10(root='./data', train=True, download=True, transform=transform)\n",
    "test_set = torchvision.datasets.CIFAR10(root='./data', train=False, download=True, transform=transform)"
   ]
  },
  {
   "cell_type": "code",
   "execution_count": 5,
   "id": "3c9010ca",
   "metadata": {
    "execution": {
     "iopub.execute_input": "2024-04-23T20:45:35.419931Z",
     "iopub.status.busy": "2024-04-23T20:45:35.419566Z",
     "iopub.status.idle": "2024-04-23T20:45:35.427375Z",
     "shell.execute_reply": "2024-04-23T20:45:35.426505Z",
     "shell.execute_reply.started": "2024-04-23T20:45:35.419889Z"
    }
   },
   "outputs": [
    {
     "data": {
      "text/plain": [
       "Dataset CIFAR10\n",
       "    Number of datapoints: 50000\n",
       "    Root location: ./data\n",
       "    Split: Train\n",
       "    StandardTransform\n",
       "Transform: Compose(\n",
       "               ToTensor()\n",
       "           )"
      ]
     },
     "execution_count": 5,
     "metadata": {},
     "output_type": "execute_result"
    }
   ],
   "source": [
    "train_set"
   ]
  },
  {
   "cell_type": "code",
   "execution_count": 6,
   "id": "fb9f299f",
   "metadata": {
    "execution": {
     "iopub.execute_input": "2024-04-23T20:45:36.833394Z",
     "iopub.status.busy": "2024-04-23T20:45:36.832775Z",
     "iopub.status.idle": "2024-04-23T20:45:36.839008Z",
     "shell.execute_reply": "2024-04-23T20:45:36.838010Z",
     "shell.execute_reply.started": "2024-04-23T20:45:36.833360Z"
    }
   },
   "outputs": [
    {
     "data": {
      "text/plain": [
       "Dataset CIFAR10\n",
       "    Number of datapoints: 10000\n",
       "    Root location: ./data\n",
       "    Split: Test\n",
       "    StandardTransform\n",
       "Transform: Compose(\n",
       "               ToTensor()\n",
       "           )"
      ]
     },
     "execution_count": 6,
     "metadata": {},
     "output_type": "execute_result"
    }
   ],
   "source": [
    "test_set"
   ]
  },
  {
   "cell_type": "code",
   "execution_count": 7,
   "id": "8d15b6d5",
   "metadata": {
    "execution": {
     "iopub.execute_input": "2024-04-23T20:45:38.937495Z",
     "iopub.status.busy": "2024-04-23T20:45:38.937112Z",
     "iopub.status.idle": "2024-04-23T20:45:38.942615Z",
     "shell.execute_reply": "2024-04-23T20:45:38.941648Z",
     "shell.execute_reply.started": "2024-04-23T20:45:38.937464Z"
    }
   },
   "outputs": [],
   "source": [
    "# Create DataLoader for training and testing\n",
    "\n",
    "train_loader = torch.utils.data.DataLoader(train_set, batch_size=100, shuffle=True)\n",
    "test_loader = torch.utils.data.DataLoader(test_set, batch_size=10000, shuffle=False)"
   ]
  },
  {
   "cell_type": "code",
   "execution_count": 8,
   "id": "4a85925c",
   "metadata": {
    "execution": {
     "iopub.execute_input": "2024-04-23T20:45:40.817434Z",
     "iopub.status.busy": "2024-04-23T20:45:40.817058Z",
     "iopub.status.idle": "2024-04-23T20:45:40.902982Z",
     "shell.execute_reply": "2024-04-23T20:45:40.902175Z",
     "shell.execute_reply.started": "2024-04-23T20:45:40.817406Z"
    }
   },
   "outputs": [],
   "source": [
    "images, labels = next(iter(train_loader))"
   ]
  },
  {
   "cell_type": "code",
   "execution_count": 9,
   "id": "dea9962a",
   "metadata": {
    "execution": {
     "iopub.execute_input": "2024-04-23T20:45:42.533059Z",
     "iopub.status.busy": "2024-04-23T20:45:42.532696Z",
     "iopub.status.idle": "2024-04-23T20:45:42.539051Z",
     "shell.execute_reply": "2024-04-23T20:45:42.538069Z",
     "shell.execute_reply.started": "2024-04-23T20:45:42.533029Z"
    }
   },
   "outputs": [
    {
     "data": {
      "text/plain": [
       "torch.Size([100, 3, 32, 32])"
      ]
     },
     "execution_count": 9,
     "metadata": {},
     "output_type": "execute_result"
    }
   ],
   "source": [
    "images.shape"
   ]
  },
  {
   "cell_type": "code",
   "execution_count": 10,
   "id": "1a7fae2f",
   "metadata": {
    "execution": {
     "iopub.execute_input": "2024-04-23T20:45:43.348011Z",
     "iopub.status.busy": "2024-04-23T20:45:43.347143Z",
     "iopub.status.idle": "2024-04-23T20:45:43.573174Z",
     "shell.execute_reply": "2024-04-23T20:45:43.572273Z",
     "shell.execute_reply.started": "2024-04-23T20:45:43.347979Z"
    }
   },
   "outputs": [
    {
     "data": {
      "text/plain": [
       "<matplotlib.image.AxesImage at 0x79b6397174f0>"
      ]
     },
     "execution_count": 10,
     "metadata": {},
     "output_type": "execute_result"
    },
    {
     "data": {
      "image/png": "[encoded data removed]",
      "text/plain": [
       "<Figure size 640x480 with 1 Axes>"
      ]
     },
     "metadata": {},
     "output_type": "display_data"
    }
   ],
   "source": [
    "plt.imshow(images[0].permute(2, 1, 0))"
   ]
  },
  {
   "cell_type": "markdown",
   "id": "fd07bce7",
   "metadata": {},
   "source": [
    "## Build TinyVGG Model"
   ]
  },
  {
   "cell_type": "code",
   "execution_count": 11,
   "id": "58f0c3d2",
   "metadata": {
    "execution": {
     "iopub.execute_input": "2024-04-23T20:45:45.710149Z",
     "iopub.status.busy": "2024-04-23T20:45:45.709778Z",
     "iopub.status.idle": "2024-04-23T20:45:45.721501Z",
     "shell.execute_reply": "2024-04-23T20:45:45.720397Z",
     "shell.execute_reply.started": "2024-04-23T20:45:45.710118Z"
    }
   },
   "outputs": [],
   "source": [
    "class TinyVGG(nn.Module):\n",
    "\n",
    "    def __init__(self, filters=10, num_classes=10):\n",
    "        super(TinyVGG, self).__init__()\n",
    "\n",
    "        self.cnn = nn.Sequential(\n",
    "            nn.Conv2d(in_channels=3, out_channels=filters, kernel_size=3, padding=1), \n",
    "            nn.LeakyReLU(inplace=True),\n",
    "            nn.Conv2d(in_channels=filters, out_channels=filters, kernel_size=3, padding=1), \n",
    "            nn.LeakyReLU(inplace=True),\n",
    "            nn.MaxPool2d(kernel_size=2, stride=2),\n",
    "            nn.Conv2d(in_channels=filters, out_channels=filters, kernel_size=3, padding=1), \n",
    "            nn.LeakyReLU(inplace=True),\n",
    "            nn.Conv2d(in_channels=filters, out_channels=filters, kernel_size=3, padding=1), \n",
    "            nn.LeakyReLU(inplace=True),\n",
    "            nn.MaxPool2d(kernel_size=2, stride=2),\n",
    "        )\n",
    "        self.flatten = nn.Flatten()\n",
    "        self.fc = nn.Sequential(\n",
    "            nn.Linear(filters * 8 * 8, 128),\n",
    "            nn.LeakyReLU(inplace=True),\n",
    "            nn.Linear(128, 64),\n",
    "            nn.LeakyReLU(inplace=True),\n",
    "            nn.Linear(64, 32),\n",
    "            nn.LeakyReLU(inplace=True),\n",
    "            nn.Linear(32, num_classes)\n",
    "        )\n",
    "\n",
    "    def forward(self, input: torch.Tensor) -> torch.Tensor:\n",
    "        out = self.cnn(input)\n",
    "        out = self.flatten(out)\n",
    "        return self.fc(out)"
   ]
  },
  {
   "cell_type": "code",
   "execution_count": 43,
   "id": "d384b32c",
   "metadata": {
    "execution": {
     "iopub.execute_input": "2024-04-23T20:59:12.246448Z",
     "iopub.status.busy": "2024-04-23T20:59:12.245611Z",
     "iopub.status.idle": "2024-04-23T20:59:12.254485Z",
     "shell.execute_reply": "2024-04-23T20:59:12.253619Z",
     "shell.execute_reply.started": "2024-04-23T20:59:12.246411Z"
    }
   },
   "outputs": [],
   "source": [
    "model = TinyVGG().to(device)"
   ]
  },
  {
   "cell_type": "code",
   "execution_count": 44,
   "id": "a66c45bf",
   "metadata": {
    "execution": {
     "iopub.execute_input": "2024-04-23T20:59:12.428949Z",
     "iopub.status.busy": "2024-04-23T20:59:12.428283Z",
     "iopub.status.idle": "2024-04-23T20:59:12.434712Z",
     "shell.execute_reply": "2024-04-23T20:59:12.433776Z",
     "shell.execute_reply.started": "2024-04-23T20:59:12.428918Z"
    }
   },
   "outputs": [
    {
     "data": {
      "text/plain": [
       "TinyVGG(\n",
       "  (cnn): Sequential(\n",
       "    (0): Conv2d(3, 10, kernel_size=(3, 3), stride=(1, 1), padding=(1, 1))\n",
       "    (1): LeakyReLU(negative_slope=0.01, inplace=True)\n",
       "    (2): Conv2d(10, 10, kernel_size=(3, 3), stride=(1, 1), padding=(1, 1))\n",
       "    (3): LeakyReLU(negative_slope=0.01, inplace=True)\n",
       "    (4): MaxPool2d(kernel_size=2, stride=2, padding=0, dilation=1, ceil_mode=False)\n",
       "    (5): Conv2d(10, 10, kernel_size=(3, 3), stride=(1, 1), padding=(1, 1))\n",
       "    (6): LeakyReLU(negative_slope=0.01, inplace=True)\n",
       "    (7): Conv2d(10, 10, kernel_size=(3, 3), stride=(1, 1), padding=(1, 1))\n",
       "    (8): LeakyReLU(negative_slope=0.01, inplace=True)\n",
       "    (9): MaxPool2d(kernel_size=2, stride=2, padding=0, dilation=1, ceil_mode=False)\n",
       "  )\n",
       "  (flatten): Flatten(start_dim=1, end_dim=-1)\n",
       "  (fc): Sequential(\n",
       "    (0): Linear(in_features=640, out_features=128, bias=True)\n",
       "    (1): LeakyReLU(negative_slope=0.01, inplace=True)\n",
       "    (2): Linear(in_features=128, out_features=64, bias=True)\n",
       "    (3): LeakyReLU(negative_slope=0.01, inplace=True)\n",
       "    (4): Linear(in_features=64, out_features=32, bias=True)\n",
       "    (5): LeakyReLU(negative_slope=0.01, inplace=True)\n",
       "    (6): Linear(in_features=32, out_features=10, bias=True)\n",
       "  )\n",
       ")"
      ]
     },
     "execution_count": 44,
     "metadata": {},
     "output_type": "execute_result"
    }
   ],
   "source": [
    "model"
   ]
  },
  {
   "cell_type": "code",
   "execution_count": 45,
   "id": "02d4dbdf",
   "metadata": {
    "execution": {
     "iopub.execute_input": "2024-04-23T20:59:12.595760Z",
     "iopub.status.busy": "2024-04-23T20:59:12.595324Z",
     "iopub.status.idle": "2024-04-23T20:59:12.601897Z",
     "shell.execute_reply": "2024-04-23T20:59:12.600863Z",
     "shell.execute_reply.started": "2024-04-23T20:59:12.595733Z"
    }
   },
   "outputs": [
    {
     "data": {
      "text/plain": [
       "torch.Size([100, 3, 32, 32])"
      ]
     },
     "execution_count": 45,
     "metadata": {},
     "output_type": "execute_result"
    }
   ],
   "source": [
    "images.shape"
   ]
  },
  {
   "cell_type": "code",
   "execution_count": 46,
   "id": "80e5b68f",
   "metadata": {
    "execution": {
     "iopub.execute_input": "2024-04-23T20:59:12.760312Z",
     "iopub.status.busy": "2024-04-23T20:59:12.759688Z",
     "iopub.status.idle": "2024-04-23T20:59:12.774408Z",
     "shell.execute_reply": "2024-04-23T20:59:12.773345Z",
     "shell.execute_reply.started": "2024-04-23T20:59:12.760273Z"
    }
   },
   "outputs": [
    {
     "data": {
      "text/plain": [
       "tensor([2, 2, 2, 2, 2, 2, 2, 2, 2, 2, 2, 2, 2, 2, 2, 2, 2, 2, 2, 2, 2, 2, 2, 2,\n",
       "        2, 2, 2, 2, 2, 2, 2, 2, 2, 2, 2, 2, 2, 2, 2, 2, 2, 2, 2, 2, 2, 2, 2, 2,\n",
       "        2, 2, 2, 2, 2, 2, 2, 2, 2, 2, 2, 2, 2, 2, 2, 2, 2, 2, 2, 2, 2, 2, 2, 2,\n",
       "        2, 2, 2, 2, 2, 2, 2, 2, 2, 2, 2, 2, 2, 2, 2, 2, 2, 2, 2, 2, 2, 2, 2, 2,\n",
       "        2, 2, 2, 2], device='cuda:0')"
      ]
     },
     "execution_count": 46,
     "metadata": {},
     "output_type": "execute_result"
    }
   ],
   "source": [
    "model(images.to(device)).argmax(dim=1)"
   ]
  },
  {
   "cell_type": "code",
   "execution_count": 47,
   "id": "d7a80b26",
   "metadata": {
    "execution": {
     "iopub.execute_input": "2024-04-23T20:59:13.193019Z",
     "iopub.status.busy": "2024-04-23T20:59:13.192139Z",
     "iopub.status.idle": "2024-04-23T20:59:13.200282Z",
     "shell.execute_reply": "2024-04-23T20:59:13.199186Z",
     "shell.execute_reply.started": "2024-04-23T20:59:13.192980Z"
    }
   },
   "outputs": [
    {
     "data": {
      "text/plain": [
       "tensor([6, 0, 6, 0, 4, 1, 2, 8, 3, 8, 9, 2, 7, 9, 2, 0, 9, 6, 3, 8, 5, 5, 0, 2,\n",
       "        8, 4, 4, 8, 6, 5, 1, 8, 1, 6, 5, 5, 4, 1, 0, 6, 5, 4, 7, 9, 3, 7, 0, 7,\n",
       "        6, 2, 9, 3, 9, 1, 4, 2, 4, 4, 4, 4, 6, 7, 2, 8, 8, 1, 9, 0, 0, 3, 1, 6,\n",
       "        9, 0, 3, 3, 1, 0, 9, 7, 0, 4, 5, 9, 2, 7, 2, 0, 4, 8, 6, 8, 2, 3, 9, 9,\n",
       "        3, 7, 3, 7])"
      ]
     },
     "execution_count": 47,
     "metadata": {},
     "output_type": "execute_result"
    }
   ],
   "source": [
    "labels"
   ]
  },
  {
   "cell_type": "code",
   "execution_count": 48,
   "id": "063dc7e7",
   "metadata": {
    "execution": {
     "iopub.execute_input": "2024-04-23T20:59:13.711932Z",
     "iopub.status.busy": "2024-04-23T20:59:13.711098Z",
     "iopub.status.idle": "2024-04-23T20:59:13.716032Z",
     "shell.execute_reply": "2024-04-23T20:59:13.715040Z",
     "shell.execute_reply.started": "2024-04-23T20:59:13.711898Z"
    }
   },
   "outputs": [],
   "source": [
    "criterion = nn.CrossEntropyLoss()"
   ]
  },
  {
   "cell_type": "code",
   "execution_count": 49,
   "id": "289b95fb",
   "metadata": {
    "execution": {
     "iopub.execute_input": "2024-04-23T20:59:19.101221Z",
     "iopub.status.busy": "2024-04-23T20:59:19.100564Z",
     "iopub.status.idle": "2024-04-23T20:59:19.106670Z",
     "shell.execute_reply": "2024-04-23T20:59:19.105759Z",
     "shell.execute_reply.started": "2024-04-23T20:59:19.101176Z"
    }
   },
   "outputs": [],
   "source": [
    "opt = optim.AdamW(model.parameters(), lr=0.001)"
   ]
  },
  {
   "cell_type": "code",
   "execution_count": 50,
   "id": "42d5a12a",
   "metadata": {
    "execution": {
     "iopub.execute_input": "2024-04-23T20:59:20.331450Z",
     "iopub.status.busy": "2024-04-23T20:59:20.330953Z",
     "iopub.status.idle": "2024-04-23T20:59:20.341461Z",
     "shell.execute_reply": "2024-04-23T20:59:20.340542Z",
     "shell.execute_reply.started": "2024-04-23T20:59:20.331404Z"
    }
   },
   "outputs": [],
   "source": [
    "# This function is define to train the model, with MSELoss, and Adam optimizer.\n",
    "\n",
    "def train(\n",
    "    model,\n",
    "    criterion,\n",
    "    optimizer,\n",
    "    train_loader,\n",
    "    epochs=1,\n",
    "    loggings: bool = True, \n",
    "    loggings_iter: int = 400,\n",
    ") -> None:\n",
    "    \n",
    "    model.train()\n",
    "    \n",
    "    for epoch in range(epochs):\n",
    "        \n",
    "        for i, (img, lbl) in enumerate(train_loader):\n",
    "            \n",
    "            model.train()\n",
    "        \n",
    "            optimizer.zero_grad()\n",
    "        \n",
    "            pred_lbl = model(img.to(device))\n",
    "            \n",
    "            loss = criterion(pred_lbl, lbl.to(device))\n",
    "            \n",
    "            loss.backward()\n",
    "            \n",
    "            optimizer.step()\n",
    "\n",
    "            if i%int(loggings_iter)==0:\n",
    "                \n",
    "                model.eval()\n",
    "                \n",
    "                train_acc = accuracy_score(pred_lbl.argmax(dim=1).cpu().detach().numpy(), lbl.cpu().detach().numpy())\n",
    "                \n",
    "                test_img, test_lbl = next(iter(test_loader))\n",
    "                \n",
    "                test_labels_pred = model(test_img.to(device)).argmax(dim=1)\n",
    "                \n",
    "                test_acc = accuracy_score(test_labels_pred.cpu().detach().numpy(), test_lbl.cpu().detach().numpy())             \n",
    "                \n",
    "                print(f\"Epochs: {epoch:4d} | Iteration: {i:4d}| Loss: {loss.item():4.7f}| Train Acc: {train_acc*100:4.3f}%| Test Acc: {test_acc*100:4.3f}%\")\n",
    "                print(\"-\"*140)\n",
    "\n",
    "    print(\"-\"*140)\n",
    "    print(\"Traning is finished :) \")"
   ]
  },
  {
   "cell_type": "code",
   "execution_count": 51,
   "id": "1adcffc4",
   "metadata": {
    "execution": {
     "iopub.execute_input": "2024-04-23T20:59:27.719053Z",
     "iopub.status.busy": "2024-04-23T20:59:27.718680Z",
     "iopub.status.idle": "2024-04-23T21:05:08.827266Z",
     "shell.execute_reply": "2024-04-23T21:05:08.826380Z",
     "shell.execute_reply.started": "2024-04-23T20:59:27.719024Z"
    }
   },
   "outputs": [
    {
     "name": "stdout",
     "output_type": "stream",
     "text": [
      "Epochs:    0 | Iteration:    0| Loss: 2.2950664| Train Acc: 10.000%| Test Acc: 10.000%\n",
      "--------------------------------------------------------------------------------------------------------------------------------------------\n",
      "Epochs:    0 | Iteration:  250| Loss: 2.0393775| Train Acc: 22.000%| Test Acc: 26.600%\n",
      "--------------------------------------------------------------------------------------------------------------------------------------------\n",
      "Epochs:    1 | Iteration:    0| Loss: 1.8799130| Train Acc: 36.000%| Test Acc: 39.820%\n",
      "--------------------------------------------------------------------------------------------------------------------------------------------\n",
      "Epochs:    1 | Iteration:  250| Loss: 1.4741166| Train Acc: 41.000%| Test Acc: 46.540%\n",
      "--------------------------------------------------------------------------------------------------------------------------------------------\n",
      "Epochs:    2 | Iteration:    0| Loss: 1.5180773| Train Acc: 43.000%| Test Acc: 49.350%\n",
      "--------------------------------------------------------------------------------------------------------------------------------------------\n",
      "Epochs:    2 | Iteration:  250| Loss: 1.4818174| Train Acc: 53.000%| Test Acc: 51.090%\n",
      "--------------------------------------------------------------------------------------------------------------------------------------------\n",
      "Epochs:    3 | Iteration:    0| Loss: 1.1674542| Train Acc: 56.000%| Test Acc: 53.780%\n",
      "--------------------------------------------------------------------------------------------------------------------------------------------\n",
      "Epochs:    3 | Iteration:  250| Loss: 1.1718467| Train Acc: 54.000%| Test Acc: 54.480%\n",
      "--------------------------------------------------------------------------------------------------------------------------------------------\n",
      "Epochs:    4 | Iteration:    0| Loss: 1.3767629| Train Acc: 54.000%| Test Acc: 55.660%\n",
      "--------------------------------------------------------------------------------------------------------------------------------------------\n",
      "Epochs:    4 | Iteration:  250| Loss: 1.0507762| Train Acc: 66.000%| Test Acc: 58.520%\n",
      "--------------------------------------------------------------------------------------------------------------------------------------------\n",
      "Epochs:    5 | Iteration:    0| Loss: 1.2686527| Train Acc: 54.000%| Test Acc: 56.770%\n",
      "--------------------------------------------------------------------------------------------------------------------------------------------\n",
      "Epochs:    5 | Iteration:  250| Loss: 0.9400601| Train Acc: 62.000%| Test Acc: 59.550%\n",
      "--------------------------------------------------------------------------------------------------------------------------------------------\n",
      "Epochs:    6 | Iteration:    0| Loss: 0.9753476| Train Acc: 69.000%| Test Acc: 60.500%\n",
      "--------------------------------------------------------------------------------------------------------------------------------------------\n",
      "Epochs:    6 | Iteration:  250| Loss: 0.8774150| Train Acc: 68.000%| Test Acc: 60.630%\n",
      "--------------------------------------------------------------------------------------------------------------------------------------------\n",
      "Epochs:    7 | Iteration:    0| Loss: 0.8558412| Train Acc: 72.000%| Test Acc: 60.240%\n",
      "--------------------------------------------------------------------------------------------------------------------------------------------\n",
      "Epochs:    7 | Iteration:  250| Loss: 1.0966228| Train Acc: 59.000%| Test Acc: 62.540%\n",
      "--------------------------------------------------------------------------------------------------------------------------------------------\n",
      "Epochs:    8 | Iteration:    0| Loss: 0.9702262| Train Acc: 67.000%| Test Acc: 63.600%\n",
      "--------------------------------------------------------------------------------------------------------------------------------------------\n",
      "Epochs:    8 | Iteration:  250| Loss: 0.8010948| Train Acc: 65.000%| Test Acc: 63.180%\n",
      "--------------------------------------------------------------------------------------------------------------------------------------------\n",
      "Epochs:    9 | Iteration:    0| Loss: 0.7592452| Train Acc: 72.000%| Test Acc: 63.850%\n",
      "--------------------------------------------------------------------------------------------------------------------------------------------\n",
      "Epochs:    9 | Iteration:  250| Loss: 0.7317906| Train Acc: 66.000%| Test Acc: 64.310%\n",
      "--------------------------------------------------------------------------------------------------------------------------------------------\n",
      "Epochs:   10 | Iteration:    0| Loss: 0.8306426| Train Acc: 73.000%| Test Acc: 63.870%\n",
      "--------------------------------------------------------------------------------------------------------------------------------------------\n",
      "Epochs:   10 | Iteration:  250| Loss: 0.9971929| Train Acc: 58.000%| Test Acc: 63.490%\n",
      "--------------------------------------------------------------------------------------------------------------------------------------------\n",
      "Epochs:   11 | Iteration:    0| Loss: 0.6680540| Train Acc: 77.000%| Test Acc: 65.620%\n",
      "--------------------------------------------------------------------------------------------------------------------------------------------\n",
      "Epochs:   11 | Iteration:  250| Loss: 0.7974395| Train Acc: 73.000%| Test Acc: 64.730%\n",
      "--------------------------------------------------------------------------------------------------------------------------------------------\n",
      "Epochs:   12 | Iteration:    0| Loss: 0.7601711| Train Acc: 67.000%| Test Acc: 65.840%\n",
      "--------------------------------------------------------------------------------------------------------------------------------------------\n",
      "Epochs:   12 | Iteration:  250| Loss: 0.8005891| Train Acc: 75.000%| Test Acc: 64.220%\n",
      "--------------------------------------------------------------------------------------------------------------------------------------------\n",
      "Epochs:   13 | Iteration:    0| Loss: 0.6899109| Train Acc: 76.000%| Test Acc: 65.610%\n",
      "--------------------------------------------------------------------------------------------------------------------------------------------\n",
      "Epochs:   13 | Iteration:  250| Loss: 0.6075670| Train Acc: 80.000%| Test Acc: 65.200%\n",
      "--------------------------------------------------------------------------------------------------------------------------------------------\n",
      "Epochs:   14 | Iteration:    0| Loss: 0.7488316| Train Acc: 72.000%| Test Acc: 66.100%\n",
      "--------------------------------------------------------------------------------------------------------------------------------------------\n",
      "Epochs:   14 | Iteration:  250| Loss: 0.7069647| Train Acc: 76.000%| Test Acc: 65.530%\n",
      "--------------------------------------------------------------------------------------------------------------------------------------------\n",
      "Epochs:   15 | Iteration:    0| Loss: 0.6286623| Train Acc: 78.000%| Test Acc: 66.560%\n",
      "--------------------------------------------------------------------------------------------------------------------------------------------\n",
      "Epochs:   15 | Iteration:  250| Loss: 0.8398189| Train Acc: 76.000%| Test Acc: 65.000%\n",
      "--------------------------------------------------------------------------------------------------------------------------------------------\n",
      "Epochs:   16 | Iteration:    0| Loss: 0.6152000| Train Acc: 74.000%| Test Acc: 66.380%\n",
      "--------------------------------------------------------------------------------------------------------------------------------------------\n",
      "Epochs:   16 | Iteration:  250| Loss: 0.7136664| Train Acc: 76.000%| Test Acc: 65.590%\n",
      "--------------------------------------------------------------------------------------------------------------------------------------------\n",
      "Epochs:   17 | Iteration:    0| Loss: 0.6493543| Train Acc: 72.000%| Test Acc: 64.520%\n",
      "--------------------------------------------------------------------------------------------------------------------------------------------\n",
      "Epochs:   17 | Iteration:  250| Loss: 0.5442784| Train Acc: 87.000%| Test Acc: 66.110%\n",
      "--------------------------------------------------------------------------------------------------------------------------------------------\n",
      "Epochs:   18 | Iteration:    0| Loss: 0.4036622| Train Acc: 85.000%| Test Acc: 64.860%\n",
      "--------------------------------------------------------------------------------------------------------------------------------------------\n",
      "Epochs:   18 | Iteration:  250| Loss: 0.6311029| Train Acc: 80.000%| Test Acc: 65.070%\n",
      "--------------------------------------------------------------------------------------------------------------------------------------------\n",
      "Epochs:   19 | Iteration:    0| Loss: 0.4796232| Train Acc: 83.000%| Test Acc: 64.440%\n",
      "--------------------------------------------------------------------------------------------------------------------------------------------\n",
      "Epochs:   19 | Iteration:  250| Loss: 0.4345101| Train Acc: 86.000%| Test Acc: 65.280%\n",
      "--------------------------------------------------------------------------------------------------------------------------------------------\n",
      "Epochs:   20 | Iteration:    0| Loss: 0.3027507| Train Acc: 88.000%| Test Acc: 65.840%\n",
      "--------------------------------------------------------------------------------------------------------------------------------------------\n",
      "Epochs:   20 | Iteration:  250| Loss: 0.4054781| Train Acc: 82.000%| Test Acc: 65.250%\n",
      "--------------------------------------------------------------------------------------------------------------------------------------------\n",
      "Epochs:   21 | Iteration:    0| Loss: 0.4434018| Train Acc: 83.000%| Test Acc: 65.690%\n",
      "--------------------------------------------------------------------------------------------------------------------------------------------\n",
      "Epochs:   21 | Iteration:  250| Loss: 0.3582435| Train Acc: 88.000%| Test Acc: 64.650%\n",
      "--------------------------------------------------------------------------------------------------------------------------------------------\n",
      "Epochs:   22 | Iteration:    0| Loss: 0.4661669| Train Acc: 85.000%| Test Acc: 64.930%\n",
      "--------------------------------------------------------------------------------------------------------------------------------------------\n",
      "Epochs:   22 | Iteration:  250| Loss: 0.3828034| Train Acc: 89.000%| Test Acc: 64.230%\n",
      "--------------------------------------------------------------------------------------------------------------------------------------------\n",
      "Epochs:   23 | Iteration:    0| Loss: 0.3678980| Train Acc: 88.000%| Test Acc: 64.700%\n",
      "--------------------------------------------------------------------------------------------------------------------------------------------\n",
      "Epochs:   23 | Iteration:  250| Loss: 0.4459677| Train Acc: 84.000%| Test Acc: 64.780%\n",
      "--------------------------------------------------------------------------------------------------------------------------------------------\n",
      "Epochs:   24 | Iteration:    0| Loss: 0.2973606| Train Acc: 91.000%| Test Acc: 64.300%\n",
      "--------------------------------------------------------------------------------------------------------------------------------------------\n",
      "Epochs:   24 | Iteration:  250| Loss: 0.3616453| Train Acc: 89.000%| Test Acc: 64.560%\n",
      "--------------------------------------------------------------------------------------------------------------------------------------------\n",
      "Epochs:   25 | Iteration:    0| Loss: 0.3589348| Train Acc: 89.000%| Test Acc: 65.000%\n",
      "--------------------------------------------------------------------------------------------------------------------------------------------\n",
      "Epochs:   25 | Iteration:  250| Loss: 0.2786488| Train Acc: 89.000%| Test Acc: 64.930%\n",
      "--------------------------------------------------------------------------------------------------------------------------------------------\n",
      "Epochs:   26 | Iteration:    0| Loss: 0.3186853| Train Acc: 86.000%| Test Acc: 64.980%\n",
      "--------------------------------------------------------------------------------------------------------------------------------------------\n",
      "Epochs:   26 | Iteration:  250| Loss: 0.3902108| Train Acc: 85.000%| Test Acc: 64.790%\n",
      "--------------------------------------------------------------------------------------------------------------------------------------------\n",
      "Epochs:   27 | Iteration:    0| Loss: 0.3121643| Train Acc: 90.000%| Test Acc: 64.200%\n",
      "--------------------------------------------------------------------------------------------------------------------------------------------\n",
      "Epochs:   27 | Iteration:  250| Loss: 0.3031475| Train Acc: 91.000%| Test Acc: 64.140%\n",
      "--------------------------------------------------------------------------------------------------------------------------------------------\n",
      "Epochs:   28 | Iteration:    0| Loss: 0.2721271| Train Acc: 91.000%| Test Acc: 64.420%\n",
      "--------------------------------------------------------------------------------------------------------------------------------------------\n",
      "Epochs:   28 | Iteration:  250| Loss: 0.1539643| Train Acc: 95.000%| Test Acc: 64.040%\n",
      "--------------------------------------------------------------------------------------------------------------------------------------------\n",
      "Epochs:   29 | Iteration:    0| Loss: 0.2170157| Train Acc: 91.000%| Test Acc: 63.980%\n",
      "--------------------------------------------------------------------------------------------------------------------------------------------\n",
      "Epochs:   29 | Iteration:  250| Loss: 0.2544673| Train Acc: 91.000%| Test Acc: 64.150%\n",
      "--------------------------------------------------------------------------------------------------------------------------------------------\n",
      "--------------------------------------------------------------------------------------------------------------------------------------------\n",
      "Traning is finished :) \n"
     ]
    }
   ],
   "source": [
    "train(\n",
    "    model, \n",
    "    criterion, \n",
    "    opt, \n",
    "    train_loader,\n",
    "    epochs=30,\n",
    "    loggings_iter=250\n",
    ")"
   ]
  },
  {
   "cell_type": "code",
   "execution_count": 52,
   "id": "8344c35f",
   "metadata": {
    "execution": {
     "iopub.execute_input": "2024-04-23T21:06:15.887884Z",
     "iopub.status.busy": "2024-04-23T21:06:15.887288Z",
     "iopub.status.idle": "2024-04-23T21:06:16.891755Z",
     "shell.execute_reply": "2024-04-23T21:06:16.890340Z",
     "shell.execute_reply.started": "2024-04-23T21:06:15.887853Z"
    }
   },
   "outputs": [],
   "source": [
    "!mkdir models"
   ]
  },
  {
   "cell_type": "code",
   "execution_count": 53,
   "id": "2bab5eed",
   "metadata": {
    "execution": {
     "iopub.execute_input": "2024-04-23T21:06:17.782676Z",
     "iopub.status.busy": "2024-04-23T21:06:17.782313Z",
     "iopub.status.idle": "2024-04-23T21:06:17.796294Z",
     "shell.execute_reply": "2024-04-23T21:06:17.795241Z",
     "shell.execute_reply.started": "2024-04-23T21:06:17.782648Z"
    }
   },
   "outputs": [],
   "source": [
    "# save the model\n",
    "\n",
    "torch.save(model.state_dict(), \"./models/TinyVGG_V2_acc_train_91_test_acc_64.pth\")"
   ]
  },
  {
   "cell_type": "code",
   "execution_count": 64,
   "id": "50a45888",
   "metadata": {
    "execution": {
     "iopub.execute_input": "2024-04-23T21:07:38.464338Z",
     "iopub.status.busy": "2024-04-23T21:07:38.463389Z",
     "iopub.status.idle": "2024-04-23T21:07:38.481189Z",
     "shell.execute_reply": "2024-04-23T21:07:38.480353Z",
     "shell.execute_reply.started": "2024-04-23T21:07:38.464298Z"
    }
   },
   "outputs": [
    {
     "data": {
      "text/plain": [
       "<All keys matched successfully>"
      ]
     },
     "execution_count": 64,
     "metadata": {},
     "output_type": "execute_result"
    }
   ],
   "source": [
    "# load TinyVGG\n",
    "\n",
    "model = TinyVGG().to(device)\n",
    "\n",
    "\n",
    "model.load_state_dict(torch.load(\"./models/TinyVGG_V2_acc_train_91_test_acc_64.pth\"))"
   ]
  },
  {
   "cell_type": "code",
   "execution_count": 65,
   "id": "162bad5b",
   "metadata": {
    "execution": {
     "iopub.execute_input": "2024-04-23T21:07:39.339669Z",
     "iopub.status.busy": "2024-04-23T21:07:39.339302Z",
     "iopub.status.idle": "2024-04-23T21:07:39.345907Z",
     "shell.execute_reply": "2024-04-23T21:07:39.344959Z",
     "shell.execute_reply.started": "2024-04-23T21:07:39.339639Z"
    }
   },
   "outputs": [
    {
     "data": {
      "text/plain": [
       "TinyVGG(\n",
       "  (cnn): Sequential(\n",
       "    (0): Conv2d(3, 10, kernel_size=(3, 3), stride=(1, 1), padding=(1, 1))\n",
       "    (1): LeakyReLU(negative_slope=0.01, inplace=True)\n",
       "    (2): Conv2d(10, 10, kernel_size=(3, 3), stride=(1, 1), padding=(1, 1))\n",
       "    (3): LeakyReLU(negative_slope=0.01, inplace=True)\n",
       "    (4): MaxPool2d(kernel_size=2, stride=2, padding=0, dilation=1, ceil_mode=False)\n",
       "    (5): Conv2d(10, 10, kernel_size=(3, 3), stride=(1, 1), padding=(1, 1))\n",
       "    (6): LeakyReLU(negative_slope=0.01, inplace=True)\n",
       "    (7): Conv2d(10, 10, kernel_size=(3, 3), stride=(1, 1), padding=(1, 1))\n",
       "    (8): LeakyReLU(negative_slope=0.01, inplace=True)\n",
       "    (9): MaxPool2d(kernel_size=2, stride=2, padding=0, dilation=1, ceil_mode=False)\n",
       "  )\n",
       "  (flatten): Flatten(start_dim=1, end_dim=-1)\n",
       "  (fc): Sequential(\n",
       "    (0): Linear(in_features=640, out_features=128, bias=True)\n",
       "    (1): LeakyReLU(negative_slope=0.01, inplace=True)\n",
       "    (2): Linear(in_features=128, out_features=64, bias=True)\n",
       "    (3): LeakyReLU(negative_slope=0.01, inplace=True)\n",
       "    (4): Linear(in_features=64, out_features=32, bias=True)\n",
       "    (5): LeakyReLU(negative_slope=0.01, inplace=True)\n",
       "    (6): Linear(in_features=32, out_features=10, bias=True)\n",
       "  )\n",
       ")"
      ]
     },
     "execution_count": 65,
     "metadata": {},
     "output_type": "execute_result"
    }
   ],
   "source": [
    "model"
   ]
  },
  {
   "cell_type": "markdown",
   "id": "1787aca1",
   "metadata": {},
   "source": [
    "### TinyVGG Accuracy:"
   ]
  },
  {
   "cell_type": "code",
   "execution_count": 66,
   "id": "b414e7d3",
   "metadata": {
    "execution": {
     "iopub.execute_input": "2024-04-23T21:07:40.491885Z",
     "iopub.status.busy": "2024-04-23T21:07:40.491105Z",
     "iopub.status.idle": "2024-04-23T21:07:40.496127Z",
     "shell.execute_reply": "2024-04-23T21:07:40.495117Z",
     "shell.execute_reply.started": "2024-04-23T21:07:40.491852Z"
    }
   },
   "outputs": [],
   "source": [
    "from sklearn.metrics import accuracy_score, classification_report"
   ]
  },
  {
   "cell_type": "code",
   "execution_count": 67,
   "id": "b67acb60",
   "metadata": {
    "execution": {
     "iopub.execute_input": "2024-04-23T21:07:42.194868Z",
     "iopub.status.busy": "2024-04-23T21:07:42.194187Z",
     "iopub.status.idle": "2024-04-23T21:07:43.627883Z",
     "shell.execute_reply": "2024-04-23T21:07:43.627017Z",
     "shell.execute_reply.started": "2024-04-23T21:07:42.194828Z"
    }
   },
   "outputs": [],
   "source": [
    "train_img, train_label = next(iter(DataLoader(train_set, batch_size=10000, shuffle=True))) "
   ]
  },
  {
   "cell_type": "code",
   "execution_count": 68,
   "id": "029e6422",
   "metadata": {
    "execution": {
     "iopub.execute_input": "2024-04-23T21:07:44.761123Z",
     "iopub.status.busy": "2024-04-23T21:07:44.760277Z",
     "iopub.status.idle": "2024-04-23T21:07:46.172441Z",
     "shell.execute_reply": "2024-04-23T21:07:46.171647Z",
     "shell.execute_reply.started": "2024-04-23T21:07:44.761093Z"
    }
   },
   "outputs": [],
   "source": [
    "test_img, test_label = next(iter(test_loader))"
   ]
  },
  {
   "cell_type": "code",
   "execution_count": 70,
   "id": "38418cb8",
   "metadata": {
    "execution": {
     "iopub.execute_input": "2024-04-23T21:07:52.711030Z",
     "iopub.status.busy": "2024-04-23T21:07:52.710108Z",
     "iopub.status.idle": "2024-04-23T21:07:52.743069Z",
     "shell.execute_reply": "2024-04-23T21:07:52.742350Z",
     "shell.execute_reply.started": "2024-04-23T21:07:52.710995Z"
    }
   },
   "outputs": [],
   "source": [
    "train_label_pred = model(train_img.to(device)).argmax(dim=1)"
   ]
  },
  {
   "cell_type": "code",
   "execution_count": 71,
   "id": "2c606d24",
   "metadata": {
    "execution": {
     "iopub.execute_input": "2024-04-23T21:07:53.573445Z",
     "iopub.status.busy": "2024-04-23T21:07:53.572569Z",
     "iopub.status.idle": "2024-04-23T21:07:53.596119Z",
     "shell.execute_reply": "2024-04-23T21:07:53.595240Z",
     "shell.execute_reply.started": "2024-04-23T21:07:53.573408Z"
    }
   },
   "outputs": [
    {
     "data": {
      "text/plain": [
       "tensor([3, 0, 1,  ..., 3, 8, 6], device='cuda:0')"
      ]
     },
     "execution_count": 71,
     "metadata": {},
     "output_type": "execute_result"
    }
   ],
   "source": [
    "train_label_pred"
   ]
  },
  {
   "cell_type": "code",
   "execution_count": 72,
   "id": "db89fbd8",
   "metadata": {
    "execution": {
     "iopub.execute_input": "2024-04-23T21:07:54.405801Z",
     "iopub.status.busy": "2024-04-23T21:07:54.404944Z",
     "iopub.status.idle": "2024-04-23T21:07:54.428167Z",
     "shell.execute_reply": "2024-04-23T21:07:54.427155Z",
     "shell.execute_reply.started": "2024-04-23T21:07:54.405768Z"
    }
   },
   "outputs": [
    {
     "name": "stdout",
     "output_type": "stream",
     "text": [
      "Train Classification Report\n",
      "              precision    recall  f1-score   support\n",
      "\n",
      "           0       0.95      0.93      0.94      1033\n",
      "           1       0.95      0.98      0.96      1005\n",
      "           2       0.87      0.88      0.88       965\n",
      "           3       0.77      0.90      0.83       866\n",
      "           4       0.97      0.75      0.85      1282\n",
      "           5       0.84      0.88      0.86       931\n",
      "           6       0.89      0.96      0.93       932\n",
      "           7       0.93      0.95      0.94       958\n",
      "           8       0.93      0.99      0.96       926\n",
      "           9       0.99      0.91      0.95      1102\n",
      "\n",
      "    accuracy                           0.91     10000\n",
      "   macro avg       0.91      0.91      0.91     10000\n",
      "weighted avg       0.91      0.91      0.91     10000\n",
      "\n"
     ]
    }
   ],
   "source": [
    "print(\"Train Classification Report\")\n",
    "print(classification_report(train_label_pred.cpu(), train_label))"
   ]
  },
  {
   "cell_type": "code",
   "execution_count": 73,
   "id": "7c5839b4",
   "metadata": {
    "execution": {
     "iopub.execute_input": "2024-04-23T21:07:57.583624Z",
     "iopub.status.busy": "2024-04-23T21:07:57.582759Z",
     "iopub.status.idle": "2024-04-23T21:07:57.615669Z",
     "shell.execute_reply": "2024-04-23T21:07:57.614808Z",
     "shell.execute_reply.started": "2024-04-23T21:07:57.583587Z"
    }
   },
   "outputs": [],
   "source": [
    "test_label_pred = model(test_img.to(device)).argmax(dim=1)"
   ]
  },
  {
   "cell_type": "code",
   "execution_count": 74,
   "id": "7ec976b4",
   "metadata": {
    "execution": {
     "iopub.execute_input": "2024-04-23T21:08:06.419016Z",
     "iopub.status.busy": "2024-04-23T21:08:06.418672Z",
     "iopub.status.idle": "2024-04-23T21:08:06.438146Z",
     "shell.execute_reply": "2024-04-23T21:08:06.437132Z",
     "shell.execute_reply.started": "2024-04-23T21:08:06.418990Z"
    }
   },
   "outputs": [
    {
     "name": "stdout",
     "output_type": "stream",
     "text": [
      "              precision    recall  f1-score   support\n",
      "\n",
      "           0       0.71      0.68      0.70      1043\n",
      "           1       0.75      0.77      0.76       966\n",
      "           2       0.51      0.49      0.50      1031\n",
      "           3       0.40      0.51      0.44       782\n",
      "           4       0.68      0.48      0.56      1422\n",
      "           5       0.52      0.57      0.54       911\n",
      "           6       0.64      0.73      0.68       877\n",
      "           7       0.70      0.70      0.70       991\n",
      "           8       0.69      0.82      0.75       836\n",
      "           9       0.77      0.67      0.72      1141\n",
      "\n",
      "    accuracy                           0.64     10000\n",
      "   macro avg       0.64      0.64      0.64     10000\n",
      "weighted avg       0.64      0.64      0.64     10000\n",
      "\n"
     ]
    }
   ],
   "source": [
    "print(classification_report(test_label_pred.cpu(), test_label))"
   ]
  }
 ],
 "metadata": {
  "kaggle": {
   "accelerator": "gpu",
   "dataSources": [],
   "dockerImageVersionId": 30699,
   "isGpuEnabled": true,
   "isInternetEnabled": true,
   "language": "python",
   "sourceType": "notebook"
  },
  "kernelspec": {
   "display_name": "Python 3 (ipykernel)",
   "language": "python",
   "name": "python3"
  },
  "language_info": {
   "codemirror_mode": {
    "name": "ipython",
    "version": 3
   },
   "file_extension": ".py",
   "mimetype": "text/x-python",
   "name": "python",
   "nbconvert_exporter": "python",
   "pygments_lexer": "ipython3",
   "version": "3.11.6"
  }
 },
 "nbformat": 4,
 "nbformat_minor": 5
}
