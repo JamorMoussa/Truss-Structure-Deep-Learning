{
 "cells": [
  {
   "cell_type": "code",
   "execution_count": 26,
   "id": "72ac81c7-2993-4d66-a642-f85d1238e019",
   "metadata": {},
   "outputs": [],
   "source": [
    "import torch, torch.nn as nn\n",
    "import torch.optim as optim\n",
    "from torch.utils.data import random_split\n",
    "\n",
    "import torch_geometric.nn as gnn\n",
    "from torch_geometric.data import InMemoryDataset, Data\n",
    "from torch_geometric.loader import DataLoader\n",
    "\n",
    "from tqdm.auto import tqdm\n",
    "\n",
    "\n",
    "import matplotlib.pyplot as plt\n",
    "import numpy as np\n",
    "\n",
    "from dataclasses import dataclass, field\n",
    "from typing import List, Tuple\n",
    "import os.path as osp\n",
    "import os"
   ]
  },
  {
   "cell_type": "code",
   "execution_count": 27,
   "id": "9faca377-28f2-4ce9-8a83-513ddc822a80",
   "metadata": {},
   "outputs": [],
   "source": [
    "def seed_everything(seed: int):\n",
    "    import random, os\n",
    "    import numpy as np\n",
    "    import torch\n",
    "    \n",
    "    random.seed(seed)\n",
    "    os.environ['PYTHONHASHSEED'] = str(seed)\n",
    "    np.random.seed(seed)\n",
    "    torch.manual_seed(seed)\n",
    "    torch.cuda.manual_seed(seed)\n",
    "    torch.backends.cudnn.deterministic = True\n",
    "    torch.backends.cudnn.benchmark = True\n",
    "    \n",
    "seed_everything(1337)"
   ]
  },
  {
   "cell_type": "code",
   "execution_count": 28,
   "id": "8eb880f7-72c0-415c-b9cb-34a713e8e96e",
   "metadata": {},
   "outputs": [
    {
     "data": {
      "text/plain": [
       "tensor([[0.0783, 0.4956],\n",
       "        [0.6231, 0.4224],\n",
       "        [0.2004, 0.0287],\n",
       "        [0.5851, 0.6967],\n",
       "        [0.1761, 0.2595],\n",
       "        [0.7086, 0.5809],\n",
       "        [0.0574, 0.7669],\n",
       "        [0.8778, 0.2434],\n",
       "        [0.6005, 0.7079],\n",
       "        [0.5102, 0.4065]])"
      ]
     },
     "execution_count": 28,
     "metadata": {},
     "output_type": "execute_result"
    }
   ],
   "source": [
    "torch.rand(10 , 2)"
   ]
  },
  {
   "cell_type": "code",
   "execution_count": 29,
   "id": "60c1f3ca-03d9-40ab-93bc-7f2582941fe1",
   "metadata": {},
   "outputs": [],
   "source": [
    "def plot_base(\n",
    "    root: str,\n",
    "    arr1: list,\n",
    "    arr2: list,\n",
    "    fig_name: str,\n",
    "    title: str,\n",
    "    x_label: str, \n",
    "    y_label: str,\n",
    "    plot_label1: str,\n",
    "    plot_label2: str,\n",
    "):\n",
    "    arr1 = np.array(arr1)\n",
    "    arr2 = np.array(arr2)\n",
    "\n",
    "    plt.plot(arr1, label= plot_label1)\n",
    "    plt.plot(arr2, label= plot_label2)\n",
    "\n",
    "    plt.title(title)\n",
    "    plt.xlabel(x_label)\n",
    "    plt.ylabel(y_label)\n",
    "    \n",
    "    plt.legend(loc=\"upper left\")\n",
    "\n",
    "    plt.show()\n",
    "    # plt.savefig(osp.join(root, f\"{fig_name}.png\"))\n",
    "    # plt.clf() "
   ]
  },
  {
   "cell_type": "code",
   "execution_count": 30,
   "id": "da73c3e5-98ff-44ea-8d47-dee7f9052de9",
   "metadata": {},
   "outputs": [],
   "source": [
    "def plot_loss(\n",
    "    root: str,\n",
    "    train_loss: list,\n",
    "    test_loss: list,\n",
    "):\n",
    "    \n",
    "    plot_base(\n",
    "        root= root,\n",
    "        arr1= train_loss,\n",
    "        arr2= test_loss,\n",
    "        fig_name= \"loss_plot\",\n",
    "        title= \"Training and Testing Loss\",\n",
    "        x_label= \"epochs\",\n",
    "        y_label= \"loss\",\n",
    "        plot_label1= \"Training Loss\",\n",
    "        plot_label2= \"Testing Loss\",\n",
    "    )"
   ]
  },
  {
   "cell_type": "markdown",
   "id": "c6aaf0d7-611b-449d-bc72-00da7b446da7",
   "metadata": {},
   "source": [
    "## Preapre The Dataset"
   ]
  },
  {
   "cell_type": "code",
   "execution_count": 31,
   "id": "0d2f4d44-e458-4715-b9fd-4138c2ecba73",
   "metadata": {},
   "outputs": [],
   "source": [
    "class TrsussDatasetForGCN(InMemoryDataset):\n",
    "\n",
    "    def __init__(\n",
    "            self,\n",
    "            root: str,\n",
    "            re_process: bool = False,\n",
    "            transform=None,\n",
    "            pre_transform=None,\n",
    "            pre_filter=None\n",
    "        ) -> None:\n",
    "        \n",
    "        if not (osp.exists(root) and not osp.exists(osp.join(root, \"dataset\" \"raw\"))):\n",
    "            raise DatasetNotExist()\n",
    "        \n",
    "        super().__init__(root, transform, pre_transform, pre_filter, force_reload=re_process)\n",
    "        \n",
    "        self.load(self.processed_paths[0])\n",
    "\n",
    "    @property\n",
    "    def raw_file_names(self):\n",
    "        return sorted(os.listdir(self.raw_dir))\n",
    "\n",
    "    @property\n",
    "    def processed_file_names(self):\n",
    "        return ['data.pt']\n",
    "\n",
    "    def edge_index(self) -> torch.tensor:\n",
    "        return torch.tensor([[0, 1, 1, 1],\n",
    "                             [1, 0, 1, 1],\n",
    "                             [1, 1, 0, 1],\n",
    "                             [1, 1, 1, 0]]).nonzero(as_tuple=False).t().contiguous()\n",
    "\n",
    "    def download(self):\n",
    "        ...\n",
    "\n",
    "    def process(self):\n",
    "\n",
    "        data_list = []\n",
    "        target = []\n",
    "        \n",
    "        data_tensors = torch.load(osp.join(self.root, \"raw\", self.raw_file_names[1]))\n",
    "\n",
    "        target = torch.load(osp.join(self.root, \"raw\", self.raw_file_names[0]))\n",
    "\n",
    "        for i in range(len(data_tensors)):\n",
    "\n",
    "            data = Data(edge_index=self.edge_index(), x=data_tensors[i], y= target[i].unsqueeze(0).type(torch.float32))\n",
    "            \n",
    "            data_list.append(data)\n",
    "            \n",
    "        self.data, self.slices = self.collate(data_list)\n",
    "            \n",
    "        torch.save((self._data, self.slices), self.processed_paths[0])"
   ]
  },
  {
   "cell_type": "code",
   "execution_count": 32,
   "id": "090a60ed-82d3-4ab7-aaec-806edbde048a",
   "metadata": {},
   "outputs": [],
   "source": [
    "dataset = TrsussDatasetForGCN(root= \"./dataset\")"
   ]
  },
  {
   "cell_type": "code",
   "execution_count": 33,
   "id": "1821f98d-4ce6-404f-aac4-0619c2814a94",
   "metadata": {},
   "outputs": [
    {
     "data": {
      "text/plain": [
       "TrsussDatasetForGCN(2001)"
      ]
     },
     "execution_count": 33,
     "metadata": {},
     "output_type": "execute_result"
    }
   ],
   "source": [
    "dataset"
   ]
  },
  {
   "cell_type": "code",
   "execution_count": 34,
   "id": "288e672b-1756-4339-97d4-b84be66d4fcf",
   "metadata": {},
   "outputs": [
    {
     "data": {
      "text/plain": [
       "tensor([[0.0163, 0.3238]])"
      ]
     },
     "execution_count": 34,
     "metadata": {},
     "output_type": "execute_result"
    }
   ],
   "source": [
    "dataset[300].y"
   ]
  },
  {
   "cell_type": "code",
   "execution_count": 35,
   "id": "77d2d61f-e3e5-4b0c-8b08-6c3df762dd19",
   "metadata": {},
   "outputs": [],
   "source": [
    "trainset, testset = random_split(dataset,  lengths=[0.8, 0.2])"
   ]
  },
  {
   "cell_type": "code",
   "execution_count": 36,
   "id": "c681c2ea-058d-4d9a-ba7a-f0f6cdeaa986",
   "metadata": {},
   "outputs": [],
   "source": [
    "train_loader = DataLoader(trainset, batch_size=100, shuffle=True)"
   ]
  },
  {
   "cell_type": "code",
   "execution_count": 139,
   "id": "83934845-0d61-4df0-99c5-29ef438f4e3f",
   "metadata": {},
   "outputs": [],
   "source": [
    "test_loader = DataLoader(testset, batch_size=10, shuffle=True)"
   ]
  },
  {
   "cell_type": "markdown",
   "id": "f7c5c71f-aeef-4d3d-bb42-dc326cddd96f",
   "metadata": {},
   "source": [
    "## Build The Model"
   ]
  },
  {
   "cell_type": "markdown",
   "id": "52d6c3ff-c7c0-405b-baf0-71a054e3e5f2",
   "metadata": {},
   "source": [
    "First let's build the model configs"
   ]
  },
  {
   "cell_type": "code",
   "execution_count": 140,
   "id": "5b4ecf0e-f1aa-4f9b-b685-5982d73d635a",
   "metadata": {},
   "outputs": [],
   "source": [
    "@dataclass\n",
    "class GCNModelConfigs:\n",
    "   \n",
    "    gcn_layers: List[Tuple[int, int]] = field(default_factory=lambda: [(2, 64), (64, 32)])\n",
    "    fc_layers: List[Tuple[int, int]] = field(default_factory=lambda: [(32, 32)])\n",
    "\n",
    "    device: torch.device = torch.device('cuda' if torch.cuda.is_available() else 'cpu')\n",
    "\n",
    "    target_dim: int = 2\n",
    "\n",
    "    @staticmethod\n",
    "    def get_defaults():\n",
    "        return GCNModelConfigs()\n",
    "    \n",
    "    def to_dict(self):\n",
    "        fc_layers = [*self.fc_layers, (self.fc_layers[-1][1], self.num_classes)]\n",
    "        return {\"gcn_layers\": self.gcn_layers, \"fc_layers\": fc_layers, \"device\": str(self.device), \"num_classes\": self.num_classes}"
   ]
  },
  {
   "cell_type": "markdown",
   "id": "c29b4a26-9c4f-4d74-96cf-097da087de6a",
   "metadata": {},
   "source": [
    "Then Build the Model Architecture"
   ]
  },
  {
   "cell_type": "code",
   "execution_count": 184,
   "id": "84249cdd-3cc8-4405-968e-6ddd5dceecee",
   "metadata": {},
   "outputs": [],
   "source": [
    "class GCNModel(nn.Module):\n",
    "\n",
    "    def __init__(self, configs: GCNModelConfigs = GCNModelConfigs.get_defaults()) -> None:\n",
    "        super(GCNModel, self).__init__() \n",
    "        \n",
    "        self.configs: GCNModelConfigs = configs\n",
    "\n",
    "        self.gcn = gnn.Sequential('x, edge_index', [\n",
    "            (self.gcn_conv_block(in_dim, out_dim), 'x, edge_index -> x') \n",
    "            for (in_dim, out_dim) in self.configs.gcn_layers\n",
    "        ])\n",
    "\n",
    "        self.fc = nn.Sequential(\n",
    "            *[self.fc_block(in_dim, out_dim) for (in_dim, out_dim) in self.configs.fc_layers]\n",
    "        )\n",
    "\n",
    "        last_dim = self.configs.fc_layers[-1][1]\n",
    "\n",
    "        self.fc.add_module(name= \"out\", module=nn.Linear(last_dim , self.configs.target_dim))\n",
    "\n",
    "    def gcn_conv_block(self, in_dim: int, out_dim: int):\n",
    "        return gnn.Sequential('x, edge_index', [\n",
    "            (gnn.GCNConv(in_dim, out_dim), 'x, edge_index -> x'),\n",
    "            nn.ReLU(True),\n",
    "        ])\n",
    "\n",
    "    def fc_block(self, in_dim: int, out_dim: int,):\n",
    "        return nn.Sequential(\n",
    "            nn.Linear(in_dim, out_dim),\n",
    "            nn.ReLU(True),\n",
    "        )\n",
    "\n",
    "    def forward(self, input: torch.Tensor, edge_index: torch.Tensor, batch: torch.Tensor) -> torch.Tensor:\n",
    "        \n",
    "        out = self.gcn(input, edge_index)\n",
    "        out = gnn.global_max_pool(out, batch)\n",
    "        \n",
    "        return self.fc(out)"
   ]
  },
  {
   "cell_type": "code",
   "execution_count": null,
   "id": "421249f2-286f-4938-a46e-c5d81952fb25",
   "metadata": {},
   "outputs": [],
   "source": [
    "model = GCNModel()"
   ]
  },
  {
   "cell_type": "code",
   "execution_count": null,
   "id": "5b8f9f6d-a956-47f6-8dae-cad5e32dc7a0",
   "metadata": {},
   "outputs": [],
   "source": [
    "model"
   ]
  },
  {
   "cell_type": "code",
   "execution_count": null,
   "id": "7fba39e8-387e-4794-a95c-724e6e9d2b0d",
   "metadata": {},
   "outputs": [],
   "source": [
    "data = next(iter(train_loader))"
   ]
  },
  {
   "cell_type": "code",
   "execution_count": null,
   "id": "1d434a7b-ae82-47d4-b915-1cd13cd71785",
   "metadata": {},
   "outputs": [],
   "source": [
    "data"
   ]
  },
  {
   "cell_type": "code",
   "execution_count": null,
   "id": "72c1f460-a89c-4942-beb9-ff995c57111f",
   "metadata": {},
   "outputs": [],
   "source": [
    "model(data.x, data.edge_index, data.batch)[:10]"
   ]
  },
  {
   "cell_type": "code",
   "execution_count": null,
   "id": "909075a0-b68c-4716-a197-df5d94af0aef",
   "metadata": {},
   "outputs": [],
   "source": [
    "loss_fn = nn.MSELoss()"
   ]
  },
  {
   "cell_type": "code",
   "execution_count": 191,
   "id": "06517764-b933-4343-9483-a1f12b88eab5",
   "metadata": {},
   "outputs": [],
   "source": [
    "opt = torch.optim.Adam(model.parameters(), lr=0.01)"
   ]
  },
  {
   "cell_type": "code",
   "execution_count": 199,
   "id": "accb7951-bb0c-4d10-823a-c29707923d06",
   "metadata": {},
   "outputs": [],
   "source": [
    "def train_step_gcn_model(\n",
    "    model: nn.Module,\n",
    "    loss_fn: nn.modules.loss._Loss,\n",
    "    opt: optim.Optimizer,\n",
    "    loader: DataLoader, \n",
    "    device: torch.device,\n",
    ") -> None:\n",
    "    \n",
    "    for data in loader:\n",
    "\n",
    "        opt.zero_grad()\n",
    "\n",
    "        data = data.to(device)\n",
    "\n",
    "        out = model(data.x, data.edge_index, data.batch)\n",
    "        loss = loss_fn(out, data.y)\n",
    "\n",
    "        loss.backward()\n",
    "\n",
    "        opt.step()"
   ]
  },
  {
   "cell_type": "code",
   "execution_count": 200,
   "id": "6cddd542-b687-49a8-a653-07052047a782",
   "metadata": {},
   "outputs": [],
   "source": [
    "def compute_loss(\n",
    "    model: nn.Module,\n",
    "    loader: torch.utils.data.DataLoader,\n",
    "    loss_fn: nn.modules.loss._Loss,\n",
    "    device: torch.device\n",
    ") -> float:\n",
    "    \n",
    "    model.eval()\n",
    "\n",
    "    total_loss = 0\n",
    "    accuracy = 0\n",
    "    \n",
    "    for data in loader:\n",
    "\n",
    "        data = data.to(device)\n",
    "\n",
    "        out = model(data.x, data.edge_index, data.batch)\n",
    "\n",
    "        loss = loss_fn(out, data.y)\n",
    "\n",
    "        total_loss += loss.item()\n",
    "\n",
    "    return total_loss"
   ]
  },
  {
   "cell_type": "code",
   "execution_count": 201,
   "id": "16ac22e6-d88c-4144-b5ef-d8fe20cb0451",
   "metadata": {},
   "outputs": [],
   "source": [
    "def train_gcn_model(\n",
    "    model: nn.Module,\n",
    "    loss_fn: nn.modules.loss._Loss,\n",
    "    opt: optim.Optimizer,\n",
    "    lr_schedular: optim.lr_scheduler.LRScheduler,\n",
    "    train_loader: DataLoader, \n",
    "    test_loader: DataLoader, \n",
    "    device: torch.device,\n",
    "    epochs: int = 10\n",
    ") -> None:\n",
    "\n",
    "    results = {\n",
    "        \"train_loss\": [],\n",
    "        \"test_loss\": [],\n",
    "    }\n",
    "\n",
    "    for epoch in (bar := tqdm(range(epochs))):\n",
    "\n",
    "        train_step_gcn_model(\n",
    "            model= model,\n",
    "            loss_fn= loss_fn,\n",
    "            opt= opt,\n",
    "            loader= train_loader,\n",
    "            device= device\n",
    "        )\n",
    "\n",
    "        train_loss = compute_loss(\n",
    "            model= model,\n",
    "            loader= train_loader,\n",
    "            loss_fn= loss_fn,\n",
    "            device= device\n",
    "        )\n",
    "\n",
    "        test_loss = compute_loss(\n",
    "            model= model,\n",
    "            loader= test_loader,\n",
    "            loss_fn= loss_fn,\n",
    "            device= device\n",
    "        )\n",
    "\n",
    "        results[\"train_loss\"].append(train_loss)\n",
    "        results[\"test_loss\"].append(test_loss)\n",
    "\n",
    "    return results"
   ]
  },
  {
   "cell_type": "code",
   "execution_count": 203,
   "id": "21c8f656-8af2-4b43-b934-43009018e459",
   "metadata": {},
   "outputs": [
    {
     "data": {
      "application/vnd.jupyter.widget-view+json": {
       "model_id": "fcb6d6b873b7443ca23f3ab2ea70659f",
       "version_major": 2,
       "version_minor": 0
      },
      "text/plain": [
       "  0%|          | 0/100 [00:00<?, ?it/s]"
      ]
     },
     "metadata": {},
     "output_type": "display_data"
    }
   ],
   "source": [
    "results = train_gcn_model(\n",
    "    model= model,\n",
    "    loss_fn= loss_fn, \n",
    "    opt= opt,\n",
    "    lr_schedular= None,\n",
    "    train_loader= train_loader,\n",
    "    test_loader= test_loader,\n",
    "    device= 'cpu',\n",
    "    epochs= 100\n",
    ")"
   ]
  },
  {
   "cell_type": "code",
   "execution_count": 204,
   "id": "389e9281-5c33-41b5-9240-9c37c7c8ad3e",
   "metadata": {},
   "outputs": [
    {
     "data": {
      "image/png": "[encoded data removed]",
      "text/plain": [
       "<Figure size 640x480 with 1 Axes>"
      ]
     },
     "metadata": {},
     "output_type": "display_data"
    }
   ],
   "source": [
    "plot_loss(\n",
    "    root= \"./\",\n",
    "    train_loss= results[\"train_loss\"],\n",
    "    test_loss= results[\"test_loss\"],\n",
    ")"
   ]
  },
  {
   "cell_type": "code",
   "execution_count": null,
   "id": "26eb4e64-4df5-421c-915c-11a169368c2d",
   "metadata": {},
   "outputs": [],
   "source": []
  }
 ],
 "metadata": {
  "kernelspec": {
   "display_name": "Python 3 (ipykernel)",
   "language": "python",
   "name": "python3"
  },
  "language_info": {
   "codemirror_mode": {
    "name": "ipython",
    "version": 3
   },
   "file_extension": ".py",
   "mimetype": "text/x-python",
   "name": "python",
   "nbconvert_exporter": "python",
   "pygments_lexer": "ipython3",
   "version": "3.11.6"
  }
 },
 "nbformat": 4,
 "nbformat_minor": 5
}
